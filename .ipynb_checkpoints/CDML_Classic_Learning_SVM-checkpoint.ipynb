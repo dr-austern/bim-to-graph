{
 "cells": [
  {
   "cell_type": "markdown",
   "metadata": {
    "id": "tEq2zCO0-o9y"
   },
   "source": [
    "\n",
    "\n",
    "> Import Libraries\n",
    "\n",
    "\n"
   ]
  },
  {
   "cell_type": "code",
   "execution_count": 1,
   "metadata": {
    "executionInfo": {
     "elapsed": 276,
     "status": "ok",
     "timestamp": 1673181682686,
     "user": {
      "displayName": "עוז קלו",
      "userId": "08013084705537700164"
     },
     "user_tz": -120
    },
    "id": "z2COgSdq-oNF"
   },
   "outputs": [],
   "source": [
    "import numpy as np\n",
    "import matplotlib.pyplot as plt\n",
    "import pandas as pd"
   ]
  },
  {
   "cell_type": "markdown",
   "metadata": {
    "id": "fxW8qH_oPBbo"
   },
   "source": [
    "Import Data and Shuffle"
   ]
  },
  {
   "cell_type": "code",
   "execution_count": 2,
   "metadata": {
    "colab": {
     "base_uri": "https://localhost:8080/",
     "height": 582
    },
    "executionInfo": {
     "elapsed": 268,
     "status": "ok",
     "timestamp": 1673181683970,
     "user": {
      "displayName": "עוז קלו",
      "userId": "08013084705537700164"
     },
     "user_tz": -120
    },
    "id": "SboSlvNGDmBR",
    "outputId": "905b301e-19b3-432a-9000-0bac5f54d5f8"
   },
   "outputs": [
    {
     "data": {
      "text/html": [
       "<div>\n",
       "<style scoped>\n",
       "    .dataframe tbody tr th:only-of-type {\n",
       "        vertical-align: middle;\n",
       "    }\n",
       "\n",
       "    .dataframe tbody tr th {\n",
       "        vertical-align: top;\n",
       "    }\n",
       "\n",
       "    .dataframe thead th {\n",
       "        text-align: right;\n",
       "    }\n",
       "</style>\n",
       "<table border=\"1\" class=\"dataframe\">\n",
       "  <thead>\n",
       "    <tr style=\"text-align: right;\">\n",
       "      <th></th>\n",
       "      <th>unique_ids</th>\n",
       "      <th>ids</th>\n",
       "      <th>category_names</th>\n",
       "      <th>family_names</th>\n",
       "      <th>type_names</th>\n",
       "      <th>host_ids</th>\n",
       "      <th>BB_X_dims</th>\n",
       "      <th>BB_Y_dims</th>\n",
       "      <th>BB_Z_dims</th>\n",
       "      <th>BB_volumes</th>\n",
       "      <th>BB_centers</th>\n",
       "      <th>BB_plane_Zs</th>\n",
       "      <th>solid_volumes</th>\n",
       "      <th>room_names</th>\n",
       "    </tr>\n",
       "  </thead>\n",
       "  <tbody>\n",
       "    <tr>\n",
       "      <th>16777</th>\n",
       "      <td>f09cd8d9-7c51-45f8-8029-4a9be38b8ff8-0040e68a</td>\n",
       "      <td>4253322</td>\n",
       "      <td>Walls</td>\n",
       "      <td>Basic Wall</td>\n",
       "      <td>BO-INT Bl5</td>\n",
       "      <td>-</td>\n",
       "      <td>20.000000</td>\n",
       "      <td>310.000000</td>\n",
       "      <td>5.0</td>\n",
       "      <td>31000.0</td>\n",
       "      <td>{5235.253341, 1202.301326, 1095.12}</td>\n",
       "      <td>{1,0,0}</td>\n",
       "      <td>3.100000e+04</td>\n",
       "      <td>-</td>\n",
       "    </tr>\n",
       "    <tr>\n",
       "      <th>7244</th>\n",
       "      <td>7a16c7d4-23a9-40d8-93a8-1606d3a5ed5b-008494de</td>\n",
       "      <td>8688862</td>\n",
       "      <td>Walls</td>\n",
       "      <td>Basic Wall</td>\n",
       "      <td>קיר בלוק 15+ טיח פנים 2</td>\n",
       "      <td>-</td>\n",
       "      <td>87.300000</td>\n",
       "      <td>120.000000</td>\n",
       "      <td>17.0</td>\n",
       "      <td>178092.0</td>\n",
       "      <td>{-3339.02262, -755.665918, 2795.0}</td>\n",
       "      <td>{1,0,0}</td>\n",
       "      <td>1.780920e+05</td>\n",
       "      <td>-</td>\n",
       "    </tr>\n",
       "    <tr>\n",
       "      <th>8843</th>\n",
       "      <td>aaf9c9de-3535-4b84-8521-061864cfdf99-00e370e4</td>\n",
       "      <td>14905572</td>\n",
       "      <td>Walls</td>\n",
       "      <td>Basic Wall</td>\n",
       "      <td>00 - EXT-MMD-Conc-20cm</td>\n",
       "      <td>-</td>\n",
       "      <td>330.000000</td>\n",
       "      <td>249.999214</td>\n",
       "      <td>20.0</td>\n",
       "      <td>1650000.0</td>\n",
       "      <td>{1043.481992, 1444.680584, 1155.0}</td>\n",
       "      <td>{0,1,0}</td>\n",
       "      <td>1.310000e+06</td>\n",
       "      <td>-</td>\n",
       "    </tr>\n",
       "    <tr>\n",
       "      <th>12360</th>\n",
       "      <td>6de6eb6a-bcbf-4e08-a866-d954b83f7159-000acb47</td>\n",
       "      <td>707399</td>\n",
       "      <td>Walls</td>\n",
       "      <td>Basic Wall</td>\n",
       "      <td>BO-INT Con50</td>\n",
       "      <td>-</td>\n",
       "      <td>235.009133</td>\n",
       "      <td>260.000000</td>\n",
       "      <td>25.0</td>\n",
       "      <td>1530000.0</td>\n",
       "      <td>{5045.27003, 2197.801264, 150.12}</td>\n",
       "      <td>{0,1,0}</td>\n",
       "      <td>1.530000e+06</td>\n",
       "      <td>-</td>\n",
       "    </tr>\n",
       "    <tr>\n",
       "      <th>11559</th>\n",
       "      <td>1135d666-8bb8-460c-bdcf-fae791167678-010aca86</td>\n",
       "      <td>17484422</td>\n",
       "      <td>Plumbing Fixtures</td>\n",
       "      <td>V1_קולטן+צמג+צא</td>\n",
       "      <td>\"4 קולטן</td>\n",
       "      <td>-</td>\n",
       "      <td>10.400000</td>\n",
       "      <td>2800.000000</td>\n",
       "      <td>10.4</td>\n",
       "      <td>302848.0</td>\n",
       "      <td>{-514.543904, 697.012106, 1400.0}</td>\n",
       "      <td>{0,1,0}</td>\n",
       "      <td>2.378566e+05</td>\n",
       "      <td>-</td>\n",
       "    </tr>\n",
       "  </tbody>\n",
       "</table>\n",
       "</div>"
      ],
      "text/plain": [
       "                                          unique_ids       ids  \\\n",
       "16777  f09cd8d9-7c51-45f8-8029-4a9be38b8ff8-0040e68a   4253322   \n",
       "7244   7a16c7d4-23a9-40d8-93a8-1606d3a5ed5b-008494de   8688862   \n",
       "8843   aaf9c9de-3535-4b84-8521-061864cfdf99-00e370e4  14905572   \n",
       "12360  6de6eb6a-bcbf-4e08-a866-d954b83f7159-000acb47    707399   \n",
       "11559  1135d666-8bb8-460c-bdcf-fae791167678-010aca86  17484422   \n",
       "\n",
       "          category_names     family_names               type_names host_ids  \\\n",
       "16777              Walls       Basic Wall               BO-INT Bl5        -   \n",
       "7244               Walls       Basic Wall  קיר בלוק 15+ טיח פנים 2        -   \n",
       "8843               Walls       Basic Wall   00 - EXT-MMD-Conc-20cm        -   \n",
       "12360              Walls       Basic Wall             BO-INT Con50        -   \n",
       "11559  Plumbing Fixtures  V1_קולטן+צמג+צא                 \"4 קולטן        -   \n",
       "\n",
       "        BB_X_dims    BB_Y_dims  BB_Z_dims  BB_volumes  \\\n",
       "16777   20.000000   310.000000        5.0     31000.0   \n",
       "7244    87.300000   120.000000       17.0    178092.0   \n",
       "8843   330.000000   249.999214       20.0   1650000.0   \n",
       "12360  235.009133   260.000000       25.0   1530000.0   \n",
       "11559   10.400000  2800.000000       10.4    302848.0   \n",
       "\n",
       "                                BB_centers BB_plane_Zs  solid_volumes  \\\n",
       "16777  {5235.253341, 1202.301326, 1095.12}     {1,0,0}   3.100000e+04   \n",
       "7244    {-3339.02262, -755.665918, 2795.0}     {1,0,0}   1.780920e+05   \n",
       "8843    {1043.481992, 1444.680584, 1155.0}     {0,1,0}   1.310000e+06   \n",
       "12360    {5045.27003, 2197.801264, 150.12}     {0,1,0}   1.530000e+06   \n",
       "11559    {-514.543904, 697.012106, 1400.0}     {0,1,0}   2.378566e+05   \n",
       "\n",
       "      room_names  \n",
       "16777          -  \n",
       "7244           -  \n",
       "8843           -  \n",
       "12360          -  \n",
       "11559          -  "
      ]
     },
     "execution_count": 2,
     "metadata": {},
     "output_type": "execute_result"
    }
   ],
   "source": [
    "data_set_merge=pd.read_csv(\"dataset-02-clean.csv\")\n",
    "\n",
    "ds =data_set_merge.sample(frac=1)\n",
    "ds.head()"
   ]
  },
  {
   "cell_type": "markdown",
   "metadata": {
    "id": "aM_xoQ7x_tIp"
   },
   "source": [
    "Organize Dataset by Name\n"
   ]
  },
  {
   "cell_type": "code",
   "execution_count": 99,
   "metadata": {
    "colab": {
     "base_uri": "https://localhost:8080/"
    },
    "executionInfo": {
     "elapsed": 248,
     "status": "ok",
     "timestamp": 1673181762598,
     "user": {
      "displayName": "עוז קלו",
      "userId": "08013084705537700164"
     },
     "user_tz": -120
    },
    "id": "U7HNvVcnMdbq",
    "outputId": "3ea53fab-7f19-49c9-b6e7-ec69e0bd662c"
   },
   "outputs": [
    {
     "name": "stdout",
     "output_type": "stream",
     "text": [
      "[[2.42056893e+02 1.85000000e+02 2.00000000e+01 8.95610505e+05\n",
      "  8.95610505e+05]\n",
      " [8.00000000e+01 9.07872940e+01 5.61584060e+01 4.07877580e+05\n",
      "  4.78992079e+04]\n",
      " [4.84504130e+01 7.34950730e+01 5.53910150e+01 1.97240016e+05\n",
      "  7.77619122e+03]\n",
      " ...\n",
      " [3.00000000e-01 6.00000000e+01 1.15000000e+02 2.07000001e+03\n",
      "  2.07000000e+03]\n",
      " [2.50000000e+02 5.00000000e+01 1.90000000e+02 2.38000000e+06\n",
      "  8.42857861e+05]\n",
      " [8.46419890e+01 1.20000000e+02 2.00000000e+00 2.03140773e+04\n",
      "  2.03140773e+04]]\n"
     ]
    }
   ],
   "source": [
    "dataset=ds[[\"category_names\",\"BB_X_dims\",\"BB_Y_dims\",\"BB_Z_dims\",\"BB_volumes\",\"solid_volumes\"]]\n",
    "X = dataset.iloc[:, 1:].values\n",
    "y = dataset.iloc[:, 0].values\n",
    "print(X)\n",
    "# sampleArray=np.array(X)\n",
    "# convertedArray = sampleArray.astype(np.float)\n"
   ]
  },
  {
   "cell_type": "markdown",
   "metadata": {
    "id": "TP8lSx0hWMl_"
   },
   "source": [
    "Encoing the Independent Var"
   ]
  },
  {
   "cell_type": "code",
   "execution_count": 94,
   "metadata": {
    "executionInfo": {
     "elapsed": 252,
     "status": "ok",
     "timestamp": 1673181709900,
     "user": {
      "displayName": "עוז קלו",
      "userId": "08013084705537700164"
     },
     "user_tz": -120
    },
    "id": "ZaoBUHCSWPOg"
   },
   "outputs": [],
   "source": [
    "# from sklearn.compose import ColumnTransformer\n",
    "# from sklearn.preprocessing import OneHotEncoder\n",
    "# ct = ColumnTransformer(transformers=[('encoder', OneHotEncoder(), [0])], remainder='passthrough')\n",
    "# X = np.array(ct.fit_transform(X))"
   ]
  },
  {
   "cell_type": "markdown",
   "metadata": {
    "id": "TN9PvXbuUjIS"
   },
   "source": [
    "Encoding Dependent Var\n"
   ]
  },
  {
   "cell_type": "code",
   "execution_count": 100,
   "metadata": {
    "executionInfo": {
     "elapsed": 256,
     "status": "ok",
     "timestamp": 1673181765900,
     "user": {
      "displayName": "עוז קלו",
      "userId": "08013084705537700164"
     },
     "user_tz": -120
    },
    "id": "v1ThU-5qUlsM"
   },
   "outputs": [],
   "source": [
    "from sklearn.preprocessing import LabelEncoder\n",
    "le = LabelEncoder()\n",
    "y = le.fit_transform(y)"
   ]
  },
  {
   "cell_type": "markdown",
   "metadata": {
    "id": "minQwl0UKTiY"
   },
   "source": [
    "Splitting Dataset into training set and test set\n"
   ]
  },
  {
   "cell_type": "code",
   "execution_count": 101,
   "metadata": {
    "executionInfo": {
     "elapsed": 234,
     "status": "ok",
     "timestamp": 1673181767292,
     "user": {
      "displayName": "עוז קלו",
      "userId": "08013084705537700164"
     },
     "user_tz": -120
    },
    "id": "SaA-bRyxOSKB"
   },
   "outputs": [],
   "source": [
    "from sklearn.model_selection import train_test_split\n",
    "X_train, X_test, y_train, y_test = train_test_split(X, y, test_size = 0.2, random_state = 0)"
   ]
  },
  {
   "cell_type": "code",
   "execution_count": 102,
   "metadata": {
    "colab": {
     "base_uri": "https://localhost:8080/"
    },
    "executionInfo": {
     "elapsed": 271,
     "status": "ok",
     "timestamp": 1673181770524,
     "user": {
      "displayName": "עוז קלו",
      "userId": "08013084705537700164"
     },
     "user_tz": -120
    },
    "id": "DZXwL9uUU6nO",
    "outputId": "8aaf5136-5e19-4b65-f013-b18d9fa1bab5"
   },
   "outputs": [
    {
     "name": "stdout",
     "output_type": "stream",
     "text": [
      "[[1.88000000e+02 2.51000000e+02 2.98432150e+01 1.41000000e+06\n",
      "  1.06096252e+05]\n",
      " [2.00000000e+02 1.21296026e+02 4.48475000e+01 1.09000000e+06\n",
      "  4.00898328e+04]\n",
      " [5.60396070e+01 3.42500000e+02 2.50000000e+01 4.79839131e+05\n",
      "  4.65221520e+05]\n",
      " ...\n",
      " [7.00000000e+01 2.10000000e+02 1.40000000e+01 2.05800000e+05\n",
      "  9.51000000e+04]\n",
      " [9.00000000e+01 3.05000000e+02 1.00000000e+01 2.74500000e+05\n",
      "  2.74500000e+05]\n",
      " [1.70000000e+01 4.95928704e+02 2.04996132e+02 1.73000000e+06\n",
      "  1.73000000e+06]]\n"
     ]
    }
   ],
   "source": [
    "print(X_train)"
   ]
  },
  {
   "cell_type": "code",
   "execution_count": 103,
   "metadata": {
    "colab": {
     "base_uri": "https://localhost:8080/"
    },
    "executionInfo": {
     "elapsed": 249,
     "status": "ok",
     "timestamp": 1673181772748,
     "user": {
      "displayName": "עוז קלו",
      "userId": "08013084705537700164"
     },
     "user_tz": -120
    },
    "id": "7VssLFH3U6hj",
    "outputId": "157c8472-21fd-4ef6-8ef6-265c1f7f1431"
   },
   "outputs": [
    {
     "name": "stdout",
     "output_type": "stream",
     "text": [
      "[[3.04800000e+01 1.82880000e+02 1.21920000e+02 6.79604318e+05\n",
      "  1.89322800e+05]\n",
      " [4.16000000e+00 2.59500000e+00 1.52000000e-01 1.64087000e+00\n",
      "  1.64087000e+00]\n",
      " [1.00000000e+01 2.10000000e+02 1.34799787e+03 2.83000000e+06\n",
      "  3.45599573e+05]\n",
      " ...\n",
      " [8.12800000e+01 9.00000000e+01 7.00000000e+01 5.12064000e+05\n",
      "  2.70608641e+05]\n",
      " [7.00000000e+01 2.10000000e+02 7.40000000e+00 1.08780000e+05\n",
      "  7.92600000e+04]\n",
      " [3.42268676e+02 2.80000000e+02 2.00000000e+01 1.92000000e+06\n",
      "  1.92000000e+06]]\n"
     ]
    }
   ],
   "source": [
    "print(X_test)"
   ]
  },
  {
   "cell_type": "code",
   "execution_count": 104,
   "metadata": {
    "colab": {
     "base_uri": "https://localhost:8080/"
    },
    "executionInfo": {
     "elapsed": 239,
     "status": "ok",
     "timestamp": 1673181774639,
     "user": {
      "displayName": "עוז קלו",
      "userId": "08013084705537700164"
     },
     "user_tz": -120
    },
    "id": "iFTXHnErU6bs",
    "outputId": "008015cb-f69b-4173-b475-09f744c356fa"
   },
   "outputs": [
    {
     "name": "stdout",
     "output_type": "stream",
     "text": [
      "[5 5 4 ... 0 4 1]\n"
     ]
    }
   ],
   "source": [
    "print(y_train)"
   ]
  },
  {
   "cell_type": "code",
   "execution_count": 105,
   "metadata": {
    "colab": {
     "base_uri": "https://localhost:8080/"
    },
    "executionInfo": {
     "elapsed": 249,
     "status": "ok",
     "timestamp": 1673181776918,
     "user": {
      "displayName": "עוז קלו",
      "userId": "08013084705537700164"
     },
     "user_tz": -120
    },
    "id": "VxcDL272U6TL",
    "outputId": "a3923d98-843b-4745-e22e-5e6166adf8d1"
   },
   "outputs": [
    {
     "name": "stdout",
     "output_type": "stream",
     "text": [
      "[2 4 1 ... 2 0 4]\n"
     ]
    }
   ],
   "source": [
    "print(y_test)"
   ]
  },
  {
   "cell_type": "markdown",
   "metadata": {
    "id": "vlgvF0UoUS_B"
   },
   "source": [
    "Feature Scalling\n"
   ]
  },
  {
   "cell_type": "code",
   "execution_count": 106,
   "metadata": {
    "executionInfo": {
     "elapsed": 253,
     "status": "ok",
     "timestamp": 1673181779221,
     "user": {
      "displayName": "עוז קלו",
      "userId": "08013084705537700164"
     },
     "user_tz": -120
    },
    "id": "LP1hRUtGUVJg"
   },
   "outputs": [],
   "source": [
    "from sklearn.preprocessing import StandardScaler\n",
    "sc = StandardScaler()\n",
    "X_train = sc.fit_transform(X_train)\n",
    "X_test = sc.transform(X_test)"
   ]
  },
  {
   "cell_type": "markdown",
   "metadata": {
    "id": "_n5GXzB1aBue"
   },
   "source": [
    "Trainig the SVM Model on the training set\n"
   ]
  },
  {
   "cell_type": "code",
   "execution_count": 107,
   "metadata": {
    "colab": {
     "base_uri": "https://localhost:8080/"
    },
    "executionInfo": {
     "elapsed": 8138,
     "status": "ok",
     "timestamp": 1673181828030,
     "user": {
      "displayName": "עוז קלו",
      "userId": "08013084705537700164"
     },
     "user_tz": -120
    },
    "id": "PGreiQTZaGhe",
    "outputId": "7a556a8a-568c-477b-e555-a67ddce79735"
   },
   "outputs": [
    {
     "data": {
      "text/plain": [
       "SVC(kernel='linear', random_state=0)"
      ]
     },
     "execution_count": 107,
     "metadata": {},
     "output_type": "execute_result"
    }
   ],
   "source": [
    "from sklearn.svm import SVC\n",
    "classifier = SVC(kernel = 'linear', random_state = 0)\n",
    "classifier.fit(X_train, y_train)"
   ]
  },
  {
   "cell_type": "markdown",
   "metadata": {
    "id": "ClRdKvEoaMcA"
   },
   "source": [
    "Confusion Matrix\n"
   ]
  },
  {
   "cell_type": "code",
   "execution_count": 109,
   "metadata": {
    "colab": {
     "base_uri": "https://localhost:8080/"
    },
    "executionInfo": {
     "elapsed": 1172,
     "status": "ok",
     "timestamp": 1673181892155,
     "user": {
      "displayName": "עוז קלו",
      "userId": "08013084705537700164"
     },
     "user_tz": -120
    },
    "id": "OuLS--DQaQt4",
    "outputId": "898d0b3d-e37b-4e18-ab4a-a20d969526a8"
   },
   "outputs": [
    {
     "name": "stdout",
     "output_type": "stream",
     "text": [
      "[[  19    0   19    1  433    0]\n",
      " [   3  233   34    5   12    0]\n",
      " [   0   25  296    0   32    0]\n",
      " [  14    3  241    2   27    0]\n",
      " [   3    1   10    0 1960    0]\n",
      " [   1    5  102    0  277    2]]\n"
     ]
    },
    {
     "data": {
      "text/plain": [
       "0.6680851063829787"
      ]
     },
     "execution_count": 109,
     "metadata": {},
     "output_type": "execute_result"
    }
   ],
   "source": [
    "from sklearn.metrics import confusion_matrix, accuracy_score\n",
    "y_pred = classifier.predict(X_test)\n",
    "cm = confusion_matrix(y_test, y_pred)\n",
    "print(cm)\n",
    "accuracy_score(y_test, y_pred)"
   ]
  }
 ],
 "metadata": {
  "colab": {
   "authorship_tag": "ABX9TyO5l6QzAMYL192m3nH76nKp",
   "mount_file_id": "1cuN3yx0mevRSoULV6bY6fAg9TUerpv73",
   "provenance": []
  },
  "kernelspec": {
   "display_name": "Python 3 (ipykernel)",
   "language": "python",
   "name": "python3"
  },
  "language_info": {
   "codemirror_mode": {
    "name": "ipython",
    "version": 3
   },
   "file_extension": ".py",
   "mimetype": "text/x-python",
   "name": "python",
   "nbconvert_exporter": "python",
   "pygments_lexer": "ipython3",
   "version": "3.10.5"
  }
 },
 "nbformat": 4,
 "nbformat_minor": 1
}

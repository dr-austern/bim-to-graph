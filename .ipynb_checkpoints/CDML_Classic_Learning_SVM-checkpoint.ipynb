{
 "cells": [
  {
   "cell_type": "markdown",
   "metadata": {
    "id": "tEq2zCO0-o9y"
   },
   "source": [
    "\n",
    "\n",
    "> Import Libraries\n",
    "\n",
    "\n"
   ]
  },
  {
   "cell_type": "code",
   "execution_count": 1,
   "metadata": {
    "executionInfo": {
     "elapsed": 276,
     "status": "ok",
     "timestamp": 1673181682686,
     "user": {
      "displayName": "עוז קלו",
      "userId": "08013084705537700164"
     },
     "user_tz": -120
    },
    "id": "z2COgSdq-oNF"
   },
   "outputs": [],
   "source": [
    "import numpy as np\n",
    "import matplotlib.pyplot as plt\n",
    "import pandas as pd\n",
    "import sklearn"
   ]
  },
  {
   "cell_type": "markdown",
   "metadata": {
    "id": "fxW8qH_oPBbo"
   },
   "source": [
    "Import Data and Shuffle"
   ]
  },
  {
   "cell_type": "code",
   "execution_count": 4,
   "metadata": {
    "colab": {
     "base_uri": "https://localhost:8080/",
     "height": 582
    },
    "executionInfo": {
     "elapsed": 268,
     "status": "ok",
     "timestamp": 1673181683970,
     "user": {
      "displayName": "עוז קלו",
      "userId": "08013084705537700164"
     },
     "user_tz": -120
    },
    "id": "SboSlvNGDmBR",
    "outputId": "905b301e-19b3-432a-9000-0bac5f54d5f8"
   },
   "outputs": [
    {
     "data": {
      "text/html": [
       "<div>\n",
       "<style scoped>\n",
       "    .dataframe tbody tr th:only-of-type {\n",
       "        vertical-align: middle;\n",
       "    }\n",
       "\n",
       "    .dataframe tbody tr th {\n",
       "        vertical-align: top;\n",
       "    }\n",
       "\n",
       "    .dataframe thead th {\n",
       "        text-align: right;\n",
       "    }\n",
       "</style>\n",
       "<table border=\"1\" class=\"dataframe\">\n",
       "  <thead>\n",
       "    <tr style=\"text-align: right;\">\n",
       "      <th></th>\n",
       "      <th>unique_ids</th>\n",
       "      <th>ids</th>\n",
       "      <th>category_names</th>\n",
       "      <th>family_names</th>\n",
       "      <th>type_names</th>\n",
       "      <th>host_ids</th>\n",
       "      <th>BB_X_dims</th>\n",
       "      <th>BB_Y_dims</th>\n",
       "      <th>BB_Z_dims</th>\n",
       "      <th>BB_volumes</th>\n",
       "      <th>BB_centers</th>\n",
       "      <th>BB_plane_Zs</th>\n",
       "      <th>solid_volumes</th>\n",
       "      <th>room_names</th>\n",
       "    </tr>\n",
       "  </thead>\n",
       "  <tbody>\n",
       "    <tr>\n",
       "      <th>16828</th>\n",
       "      <td>73ba0bfb-b690-4920-ad78-ccf47e803f9a-0041109c</td>\n",
       "      <td>4264092</td>\n",
       "      <td>Walls</td>\n",
       "      <td>Basic Wall</td>\n",
       "      <td>BO-INT Bl15</td>\n",
       "      <td>-</td>\n",
       "      <td>87.276073</td>\n",
       "      <td>310.000000</td>\n",
       "      <td>15.000000</td>\n",
       "      <td>405833.74170</td>\n",
       "      <td>{4155.499065, 2526.606191, 2745.12}</td>\n",
       "      <td>{-1,0,0}</td>\n",
       "      <td>405833.74170</td>\n",
       "      <td>-</td>\n",
       "    </tr>\n",
       "    <tr>\n",
       "      <th>5350</th>\n",
       "      <td>55536552-860b-4f25-8461-ce8015c51589-004af7f9</td>\n",
       "      <td>4913145</td>\n",
       "      <td>Windows</td>\n",
       "      <td>M_Louvers with Trim מותאם ללוברים-1</td>\n",
       "      <td>130/70</td>\n",
       "      <td>609808a2-28bf-4aae-8802-0529b6d34040-001a67c8</td>\n",
       "      <td>133.790000</td>\n",
       "      <td>73.790000</td>\n",
       "      <td>17.600000</td>\n",
       "      <td>173753.60820</td>\n",
       "      <td>{-3682.465369, -218.515918, 3710.0}</td>\n",
       "      <td>{0,-1,0}</td>\n",
       "      <td>26561.64696</td>\n",
       "      <td>-</td>\n",
       "    </tr>\n",
       "    <tr>\n",
       "      <th>1879</th>\n",
       "      <td>f2669194-5214-49a6-9625-4d338e008af2-0081a85b</td>\n",
       "      <td>8497243</td>\n",
       "      <td>Plumbing Fixtures</td>\n",
       "      <td>כיור אמבטיה</td>\n",
       "      <td>Type 1</td>\n",
       "      <td>953fa245-a320-4cd6-9f55-a8b06715b17d-0053656b</td>\n",
       "      <td>90.000000</td>\n",
       "      <td>90.000000</td>\n",
       "      <td>41.575903</td>\n",
       "      <td>336764.81060</td>\n",
       "      <td>{4978.366892, 4085.130121, 410}</td>\n",
       "      <td>{1,0,0}</td>\n",
       "      <td>11225.49369</td>\n",
       "      <td>-</td>\n",
       "    </tr>\n",
       "    <tr>\n",
       "      <th>4495</th>\n",
       "      <td>4e0151de-b0f3-4a9d-83a9-d0b026fab859-0022000f</td>\n",
       "      <td>2228239</td>\n",
       "      <td>Doors</td>\n",
       "      <td>Metal Door</td>\n",
       "      <td>100/210 אש</td>\n",
       "      <td>007e49c5-c6fc-458b-8593-86d08e228b3a-002309c6</td>\n",
       "      <td>100.000000</td>\n",
       "      <td>210.000000</td>\n",
       "      <td>14.000000</td>\n",
       "      <td>294000.00000</td>\n",
       "      <td>{-3373.338459, -72.015918, 265.0}</td>\n",
       "      <td>{0,1,0}</td>\n",
       "      <td>127950.00000</td>\n",
       "      <td>-</td>\n",
       "    </tr>\n",
       "    <tr>\n",
       "      <th>8159</th>\n",
       "      <td>81ff8dba-260f-4190-bf29-80cc4583640d-00c434b5</td>\n",
       "      <td>12858549</td>\n",
       "      <td>Walls</td>\n",
       "      <td>Basic Wall</td>\n",
       "      <td>אבן 2</td>\n",
       "      <td>-</td>\n",
       "      <td>120.694520</td>\n",
       "      <td>44.002708</td>\n",
       "      <td>2.000000</td>\n",
       "      <td>10621.77136</td>\n",
       "      <td>{-4117.838522, 142.637072, 182.001354}</td>\n",
       "      <td>{1,0,0}</td>\n",
       "      <td>10621.77136</td>\n",
       "      <td>-</td>\n",
       "    </tr>\n",
       "  </tbody>\n",
       "</table>\n",
       "</div>"
      ],
      "text/plain": [
       "                                          unique_ids       ids  \\\n",
       "16828  73ba0bfb-b690-4920-ad78-ccf47e803f9a-0041109c   4264092   \n",
       "5350   55536552-860b-4f25-8461-ce8015c51589-004af7f9   4913145   \n",
       "1879   f2669194-5214-49a6-9625-4d338e008af2-0081a85b   8497243   \n",
       "4495   4e0151de-b0f3-4a9d-83a9-d0b026fab859-0022000f   2228239   \n",
       "8159   81ff8dba-260f-4190-bf29-80cc4583640d-00c434b5  12858549   \n",
       "\n",
       "          category_names                         family_names   type_names  \\\n",
       "16828              Walls                           Basic Wall  BO-INT Bl15   \n",
       "5350             Windows  M_Louvers with Trim מותאם ללוברים-1       130/70   \n",
       "1879   Plumbing Fixtures                          כיור אמבטיה       Type 1   \n",
       "4495               Doors                           Metal Door   100/210 אש   \n",
       "8159               Walls                           Basic Wall        אבן 2   \n",
       "\n",
       "                                            host_ids   BB_X_dims   BB_Y_dims  \\\n",
       "16828                                              -   87.276073  310.000000   \n",
       "5350   609808a2-28bf-4aae-8802-0529b6d34040-001a67c8  133.790000   73.790000   \n",
       "1879   953fa245-a320-4cd6-9f55-a8b06715b17d-0053656b   90.000000   90.000000   \n",
       "4495   007e49c5-c6fc-458b-8593-86d08e228b3a-002309c6  100.000000  210.000000   \n",
       "8159                                               -  120.694520   44.002708   \n",
       "\n",
       "       BB_Z_dims    BB_volumes                              BB_centers  \\\n",
       "16828  15.000000  405833.74170     {4155.499065, 2526.606191, 2745.12}   \n",
       "5350   17.600000  173753.60820     {-3682.465369, -218.515918, 3710.0}   \n",
       "1879   41.575903  336764.81060         {4978.366892, 4085.130121, 410}   \n",
       "4495   14.000000  294000.00000       {-3373.338459, -72.015918, 265.0}   \n",
       "8159    2.000000   10621.77136  {-4117.838522, 142.637072, 182.001354}   \n",
       "\n",
       "      BB_plane_Zs  solid_volumes room_names  \n",
       "16828    {-1,0,0}   405833.74170          -  \n",
       "5350     {0,-1,0}    26561.64696          -  \n",
       "1879      {1,0,0}    11225.49369          -  \n",
       "4495      {0,1,0}   127950.00000          -  \n",
       "8159      {1,0,0}    10621.77136          -  "
      ]
     },
     "execution_count": 4,
     "metadata": {},
     "output_type": "execute_result"
    }
   ],
   "source": [
    "data_set_merge=pd.read_csv(\"dataset-02-clean.csv\")\n",
    "\n",
    "ds =data_set_merge.sample(frac=1)\n",
    "ds.head()"
   ]
  },
  {
   "cell_type": "markdown",
   "metadata": {
    "id": "aM_xoQ7x_tIp"
   },
   "source": [
    "Organize Dataset by Name\n"
   ]
  },
  {
   "cell_type": "code",
   "execution_count": 7,
   "metadata": {
    "colab": {
     "base_uri": "https://localhost:8080/"
    },
    "executionInfo": {
     "elapsed": 248,
     "status": "ok",
     "timestamp": 1673181762598,
     "user": {
      "displayName": "עוז קלו",
      "userId": "08013084705537700164"
     },
     "user_tz": -120
    },
    "id": "U7HNvVcnMdbq",
    "outputId": "3ea53fab-7f19-49c9-b6e7-ec69e0bd662c"
   },
   "outputs": [
    {
     "name": "stdout",
     "output_type": "stream",
     "text": [
      "[[8.72760730e+01 3.10000000e+02 1.50000000e+01 4.05833742e+05\n",
      "  4.05833742e+05]\n",
      " [1.33790000e+02 7.37900000e+01 1.76000000e+01 1.73753608e+05\n",
      "  2.65616470e+04]\n",
      " [9.00000000e+01 9.00000000e+01 4.15759030e+01 3.36764811e+05\n",
      "  1.12254937e+04]\n",
      " ...\n",
      " [3.30000000e+02 2.14963249e+02 2.00000000e+01 1.42000000e+06\n",
      "  1.42000000e+06]\n",
      " [9.00000000e+01 4.88950000e+01 4.90000000e+01 2.15626950e+05\n",
      "  1.44912666e+04]\n",
      " [1.79666972e+02 2.90000000e+02 1.00000000e+01 5.21034220e+05\n",
      "  3.53034220e+05]]\n"
     ]
    }
   ],
   "source": [
    "dataset=ds[[\"category_names\",\"BB_X_dims\",\"BB_Y_dims\",\"BB_Z_dims\",\"BB_volumes\",\"solid_volumes\"]]\n",
    "X = dataset.iloc[:, 1:].values\n",
    "y = dataset.iloc[:, 0].values\n",
    "print(X)\n",
    "# sampleArray=np.array(X)\n",
    "# convertedArray = sampleArray.astype(np.float)\n"
   ]
  },
  {
   "cell_type": "markdown",
   "metadata": {
    "id": "TP8lSx0hWMl_"
   },
   "source": [
    "Encoing the Independent Var"
   ]
  },
  {
   "cell_type": "code",
   "execution_count": 8,
   "metadata": {
    "executionInfo": {
     "elapsed": 252,
     "status": "ok",
     "timestamp": 1673181709900,
     "user": {
      "displayName": "עוז קלו",
      "userId": "08013084705537700164"
     },
     "user_tz": -120
    },
    "id": "ZaoBUHCSWPOg"
   },
   "outputs": [],
   "source": [
    "# from sklearn.compose import ColumnTransformer\n",
    "# from sklearn.preprocessing import OneHotEncoder\n",
    "# ct = ColumnTransformer(transformers=[('encoder', OneHotEncoder(), [0])], remainder='passthrough')\n",
    "# X = np.array(ct.fit_transform(X))"
   ]
  },
  {
   "cell_type": "markdown",
   "metadata": {
    "id": "TN9PvXbuUjIS"
   },
   "source": [
    "Encoding Dependent Var\n"
   ]
  },
  {
   "cell_type": "code",
   "execution_count": 11,
   "metadata": {
    "executionInfo": {
     "elapsed": 256,
     "status": "ok",
     "timestamp": 1673181765900,
     "user": {
      "displayName": "עוז קלו",
      "userId": "08013084705537700164"
     },
     "user_tz": -120
    },
    "id": "v1ThU-5qUlsM"
   },
   "outputs": [
    {
     "ename": "ModuleNotFoundError",
     "evalue": "No module named 'sklearn'",
     "output_type": "error",
     "traceback": [
      "\u001b[1;31m---------------------------------------------------------------------------\u001b[0m",
      "\u001b[1;31mModuleNotFoundError\u001b[0m                       Traceback (most recent call last)",
      "Input \u001b[1;32mIn [11]\u001b[0m, in \u001b[0;36m<cell line: 1>\u001b[1;34m()\u001b[0m\n\u001b[1;32m----> 1\u001b[0m \u001b[38;5;28;01mfrom\u001b[39;00m \u001b[38;5;21;01msklearn\u001b[39;00m\u001b[38;5;21;01m.\u001b[39;00m\u001b[38;5;21;01mpreprocessing\u001b[39;00m \u001b[38;5;28;01mimport\u001b[39;00m LabelEncoder\n\u001b[0;32m      2\u001b[0m le \u001b[38;5;241m=\u001b[39m LabelEncoder()\n\u001b[0;32m      3\u001b[0m y \u001b[38;5;241m=\u001b[39m le\u001b[38;5;241m.\u001b[39mfit_transform(y)\n",
      "\u001b[1;31mModuleNotFoundError\u001b[0m: No module named 'sklearn'"
     ]
    }
   ],
   "source": [
    "from sklearn.preprocessing import LabelEncoder\n",
    "le = LabelEncoder()\n",
    "y = le.fit_transform(y)"
   ]
  },
  {
   "cell_type": "markdown",
   "metadata": {
    "id": "minQwl0UKTiY"
   },
   "source": [
    "Splitting Dataset into training set and test set\n"
   ]
  },
  {
   "cell_type": "code",
   "execution_count": 101,
   "metadata": {
    "executionInfo": {
     "elapsed": 234,
     "status": "ok",
     "timestamp": 1673181767292,
     "user": {
      "displayName": "עוז קלו",
      "userId": "08013084705537700164"
     },
     "user_tz": -120
    },
    "id": "SaA-bRyxOSKB"
   },
   "outputs": [],
   "source": [
    "from sklearn.model_selection import train_test_split\n",
    "X_train, X_test, y_train, y_test = train_test_split(X, y, test_size = 0.2, random_state = 0)"
   ]
  },
  {
   "cell_type": "code",
   "execution_count": 102,
   "metadata": {
    "colab": {
     "base_uri": "https://localhost:8080/"
    },
    "executionInfo": {
     "elapsed": 271,
     "status": "ok",
     "timestamp": 1673181770524,
     "user": {
      "displayName": "עוז קלו",
      "userId": "08013084705537700164"
     },
     "user_tz": -120
    },
    "id": "DZXwL9uUU6nO",
    "outputId": "8aaf5136-5e19-4b65-f013-b18d9fa1bab5"
   },
   "outputs": [
    {
     "name": "stdout",
     "output_type": "stream",
     "text": [
      "[[1.88000000e+02 2.51000000e+02 2.98432150e+01 1.41000000e+06\n",
      "  1.06096252e+05]\n",
      " [2.00000000e+02 1.21296026e+02 4.48475000e+01 1.09000000e+06\n",
      "  4.00898328e+04]\n",
      " [5.60396070e+01 3.42500000e+02 2.50000000e+01 4.79839131e+05\n",
      "  4.65221520e+05]\n",
      " ...\n",
      " [7.00000000e+01 2.10000000e+02 1.40000000e+01 2.05800000e+05\n",
      "  9.51000000e+04]\n",
      " [9.00000000e+01 3.05000000e+02 1.00000000e+01 2.74500000e+05\n",
      "  2.74500000e+05]\n",
      " [1.70000000e+01 4.95928704e+02 2.04996132e+02 1.73000000e+06\n",
      "  1.73000000e+06]]\n"
     ]
    }
   ],
   "source": [
    "print(X_train)"
   ]
  },
  {
   "cell_type": "code",
   "execution_count": 103,
   "metadata": {
    "colab": {
     "base_uri": "https://localhost:8080/"
    },
    "executionInfo": {
     "elapsed": 249,
     "status": "ok",
     "timestamp": 1673181772748,
     "user": {
      "displayName": "עוז קלו",
      "userId": "08013084705537700164"
     },
     "user_tz": -120
    },
    "id": "7VssLFH3U6hj",
    "outputId": "157c8472-21fd-4ef6-8ef6-265c1f7f1431"
   },
   "outputs": [
    {
     "name": "stdout",
     "output_type": "stream",
     "text": [
      "[[3.04800000e+01 1.82880000e+02 1.21920000e+02 6.79604318e+05\n",
      "  1.89322800e+05]\n",
      " [4.16000000e+00 2.59500000e+00 1.52000000e-01 1.64087000e+00\n",
      "  1.64087000e+00]\n",
      " [1.00000000e+01 2.10000000e+02 1.34799787e+03 2.83000000e+06\n",
      "  3.45599573e+05]\n",
      " ...\n",
      " [8.12800000e+01 9.00000000e+01 7.00000000e+01 5.12064000e+05\n",
      "  2.70608641e+05]\n",
      " [7.00000000e+01 2.10000000e+02 7.40000000e+00 1.08780000e+05\n",
      "  7.92600000e+04]\n",
      " [3.42268676e+02 2.80000000e+02 2.00000000e+01 1.92000000e+06\n",
      "  1.92000000e+06]]\n"
     ]
    }
   ],
   "source": [
    "print(X_test)"
   ]
  },
  {
   "cell_type": "code",
   "execution_count": 104,
   "metadata": {
    "colab": {
     "base_uri": "https://localhost:8080/"
    },
    "executionInfo": {
     "elapsed": 239,
     "status": "ok",
     "timestamp": 1673181774639,
     "user": {
      "displayName": "עוז קלו",
      "userId": "08013084705537700164"
     },
     "user_tz": -120
    },
    "id": "iFTXHnErU6bs",
    "outputId": "008015cb-f69b-4173-b475-09f744c356fa"
   },
   "outputs": [
    {
     "name": "stdout",
     "output_type": "stream",
     "text": [
      "[5 5 4 ... 0 4 1]\n"
     ]
    }
   ],
   "source": [
    "print(y_train)"
   ]
  },
  {
   "cell_type": "code",
   "execution_count": 105,
   "metadata": {
    "colab": {
     "base_uri": "https://localhost:8080/"
    },
    "executionInfo": {
     "elapsed": 249,
     "status": "ok",
     "timestamp": 1673181776918,
     "user": {
      "displayName": "עוז קלו",
      "userId": "08013084705537700164"
     },
     "user_tz": -120
    },
    "id": "VxcDL272U6TL",
    "outputId": "a3923d98-843b-4745-e22e-5e6166adf8d1"
   },
   "outputs": [
    {
     "name": "stdout",
     "output_type": "stream",
     "text": [
      "[2 4 1 ... 2 0 4]\n"
     ]
    }
   ],
   "source": [
    "print(y_test)"
   ]
  },
  {
   "cell_type": "markdown",
   "metadata": {
    "id": "vlgvF0UoUS_B"
   },
   "source": [
    "Feature Scalling\n"
   ]
  },
  {
   "cell_type": "code",
   "execution_count": 106,
   "metadata": {
    "executionInfo": {
     "elapsed": 253,
     "status": "ok",
     "timestamp": 1673181779221,
     "user": {
      "displayName": "עוז קלו",
      "userId": "08013084705537700164"
     },
     "user_tz": -120
    },
    "id": "LP1hRUtGUVJg"
   },
   "outputs": [],
   "source": [
    "from sklearn.preprocessing import StandardScaler\n",
    "sc = StandardScaler()\n",
    "X_train = sc.fit_transform(X_train)\n",
    "X_test = sc.transform(X_test)"
   ]
  },
  {
   "cell_type": "markdown",
   "metadata": {
    "id": "_n5GXzB1aBue"
   },
   "source": [
    "Trainig the SVM Model on the training set\n"
   ]
  },
  {
   "cell_type": "code",
   "execution_count": 107,
   "metadata": {
    "colab": {
     "base_uri": "https://localhost:8080/"
    },
    "executionInfo": {
     "elapsed": 8138,
     "status": "ok",
     "timestamp": 1673181828030,
     "user": {
      "displayName": "עוז קלו",
      "userId": "08013084705537700164"
     },
     "user_tz": -120
    },
    "id": "PGreiQTZaGhe",
    "outputId": "7a556a8a-568c-477b-e555-a67ddce79735"
   },
   "outputs": [
    {
     "data": {
      "text/plain": [
       "SVC(kernel='linear', random_state=0)"
      ]
     },
     "execution_count": 107,
     "metadata": {},
     "output_type": "execute_result"
    }
   ],
   "source": [
    "from sklearn.svm import SVC\n",
    "classifier = SVC(kernel = 'linear', random_state = 0)\n",
    "classifier.fit(X_train, y_train)"
   ]
  },
  {
   "cell_type": "markdown",
   "metadata": {
    "id": "ClRdKvEoaMcA"
   },
   "source": [
    "Confusion Matrix\n"
   ]
  },
  {
   "cell_type": "code",
   "execution_count": 109,
   "metadata": {
    "colab": {
     "base_uri": "https://localhost:8080/"
    },
    "executionInfo": {
     "elapsed": 1172,
     "status": "ok",
     "timestamp": 1673181892155,
     "user": {
      "displayName": "עוז קלו",
      "userId": "08013084705537700164"
     },
     "user_tz": -120
    },
    "id": "OuLS--DQaQt4",
    "outputId": "898d0b3d-e37b-4e18-ab4a-a20d969526a8"
   },
   "outputs": [
    {
     "name": "stdout",
     "output_type": "stream",
     "text": [
      "[[  19    0   19    1  433    0]\n",
      " [   3  233   34    5   12    0]\n",
      " [   0   25  296    0   32    0]\n",
      " [  14    3  241    2   27    0]\n",
      " [   3    1   10    0 1960    0]\n",
      " [   1    5  102    0  277    2]]\n"
     ]
    },
    {
     "data": {
      "text/plain": [
       "0.6680851063829787"
      ]
     },
     "execution_count": 109,
     "metadata": {},
     "output_type": "execute_result"
    }
   ],
   "source": [
    "from sklearn.metrics import confusion_matrix, accuracy_score\n",
    "y_pred = classifier.predict(X_test)\n",
    "cm = confusion_matrix(y_test, y_pred)\n",
    "print(cm)\n",
    "accuracy_score(y_test, y_pred)"
   ]
  }
 ],
 "metadata": {
  "colab": {
   "authorship_tag": "ABX9TyO5l6QzAMYL192m3nH76nKp",
   "mount_file_id": "1cuN3yx0mevRSoULV6bY6fAg9TUerpv73",
   "provenance": []
  },
  "kernelspec": {
   "display_name": "Python 3 (ipykernel)",
   "language": "python",
   "name": "python3"
  },
  "language_info": {
   "codemirror_mode": {
    "name": "ipython",
    "version": 3
   },
   "file_extension": ".py",
   "mimetype": "text/x-python",
   "name": "python",
   "nbconvert_exporter": "python",
   "pygments_lexer": "ipython3",
   "version": "3.10.5"
  }
 },
 "nbformat": 4,
 "nbformat_minor": 1
}

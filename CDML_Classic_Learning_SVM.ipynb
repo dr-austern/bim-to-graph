{
 "cells": [
  {
   "cell_type": "markdown",
   "metadata": {
    "id": "tEq2zCO0-o9y"
   },
   "source": [
    "\n",
    "\n",
    "> Import Libraries\n",
    "\n",
    "\n"
   ]
  },
  {
   "cell_type": "code",
   "execution_count": 1,
   "metadata": {
    "executionInfo": {
     "elapsed": 276,
     "status": "ok",
     "timestamp": 1673181682686,
     "user": {
      "displayName": "עוז קלו",
      "userId": "08013084705537700164"
     },
     "user_tz": -120
    },
    "id": "z2COgSdq-oNF"
   },
   "outputs": [],
   "source": [
    "import numpy as np\n",
    "import matplotlib.pyplot as plt\n",
    "import pandas as pd\n",
    "import sklearn"
   ]
  },
  {
   "cell_type": "markdown",
   "metadata": {
    "id": "fxW8qH_oPBbo"
   },
   "source": [
    "Import Data and Shuffle"
   ]
  },
  {
   "cell_type": "code",
   "execution_count": 2,
   "metadata": {
    "colab": {
     "base_uri": "https://localhost:8080/",
     "height": 582
    },
    "executionInfo": {
     "elapsed": 268,
     "status": "ok",
     "timestamp": 1673181683970,
     "user": {
      "displayName": "עוז קלו",
      "userId": "08013084705537700164"
     },
     "user_tz": -120
    },
    "id": "SboSlvNGDmBR",
    "outputId": "905b301e-19b3-432a-9000-0bac5f54d5f8"
   },
   "outputs": [
    {
     "data": {
      "text/html": [
       "<div>\n",
       "<style scoped>\n",
       "    .dataframe tbody tr th:only-of-type {\n",
       "        vertical-align: middle;\n",
       "    }\n",
       "\n",
       "    .dataframe tbody tr th {\n",
       "        vertical-align: top;\n",
       "    }\n",
       "\n",
       "    .dataframe thead th {\n",
       "        text-align: right;\n",
       "    }\n",
       "</style>\n",
       "<table border=\"1\" class=\"dataframe\">\n",
       "  <thead>\n",
       "    <tr style=\"text-align: right;\">\n",
       "      <th></th>\n",
       "      <th>unique_ids</th>\n",
       "      <th>ids</th>\n",
       "      <th>category_names</th>\n",
       "      <th>family_names</th>\n",
       "      <th>type_names</th>\n",
       "      <th>host_ids</th>\n",
       "      <th>BB_X_dims</th>\n",
       "      <th>BB_Y_dims</th>\n",
       "      <th>BB_Z_dims</th>\n",
       "      <th>BB_volumes</th>\n",
       "      <th>BB_centers</th>\n",
       "      <th>BB_plane_Zs</th>\n",
       "      <th>solid_volumes</th>\n",
       "      <th>room_names</th>\n",
       "    </tr>\n",
       "  </thead>\n",
       "  <tbody>\n",
       "    <tr>\n",
       "      <th>897</th>\n",
       "      <td>02002ca4-2adf-4a5e-bf93-230816bb511b-005c5e91</td>\n",
       "      <td>6053521</td>\n",
       "      <td>Walls</td>\n",
       "      <td>Basic Wall</td>\n",
       "      <td>בלוק 10</td>\n",
       "      <td>-</td>\n",
       "      <td>278.500000</td>\n",
       "      <td>285.5</td>\n",
       "      <td>10.000000</td>\n",
       "      <td>795117.5</td>\n",
       "      <td>{7099.118821, 4182.128799, 2502.75}</td>\n",
       "      <td>{0,-1,0}</td>\n",
       "      <td>613342.5</td>\n",
       "      <td>-</td>\n",
       "    </tr>\n",
       "    <tr>\n",
       "      <th>1267</th>\n",
       "      <td>e538c556-7242-485a-8e0e-bdc8fc5ca5c3-006a3793</td>\n",
       "      <td>6961043</td>\n",
       "      <td>Walls</td>\n",
       "      <td>Basic Wall</td>\n",
       "      <td>בטון 15</td>\n",
       "      <td>-</td>\n",
       "      <td>40.000000</td>\n",
       "      <td>215.0</td>\n",
       "      <td>15.000000</td>\n",
       "      <td>129000.0</td>\n",
       "      <td>{5917.667802, 4761.650604, 3157.5}</td>\n",
       "      <td>{1,0,0}</td>\n",
       "      <td>129000.0</td>\n",
       "      <td>-</td>\n",
       "    </tr>\n",
       "    <tr>\n",
       "      <th>8598</th>\n",
       "      <td>6f694c75-579d-4918-bd7a-bee6268d8842-0017f948</td>\n",
       "      <td>1571144</td>\n",
       "      <td>Floors</td>\n",
       "      <td>Floor</td>\n",
       "      <td>פנים 25 + 15 - ריצוף 60/60</td>\n",
       "      <td>-</td>\n",
       "      <td>40.000000</td>\n",
       "      <td>260.0</td>\n",
       "      <td>129.871986</td>\n",
       "      <td>1350000.0</td>\n",
       "      <td>{-15403.160085, 8541.148375, 1245.0}</td>\n",
       "      <td>{0,1,0}</td>\n",
       "      <td>1300000.0</td>\n",
       "      <td>-</td>\n",
       "    </tr>\n",
       "    <tr>\n",
       "      <th>18027</th>\n",
       "      <td>818d733b-671f-43c4-bb01-f436f882d4b7-00057d2d</td>\n",
       "      <td>359725</td>\n",
       "      <td>Walls</td>\n",
       "      <td>Basic Wall</td>\n",
       "      <td>Generic - 350mm 2</td>\n",
       "      <td>-</td>\n",
       "      <td>630.000000</td>\n",
       "      <td>2870.0</td>\n",
       "      <td>35.000000</td>\n",
       "      <td>63300000.0</td>\n",
       "      <td>{-1525.040111, -1102.930017, 35}</td>\n",
       "      <td>{0,1,0}</td>\n",
       "      <td>62900000.0</td>\n",
       "      <td>-</td>\n",
       "    </tr>\n",
       "    <tr>\n",
       "      <th>16722</th>\n",
       "      <td>3cd6a76e-baaa-4345-876e-def6261f4ba0-0040cee2</td>\n",
       "      <td>4247266</td>\n",
       "      <td>Walls</td>\n",
       "      <td>Basic Wall</td>\n",
       "      <td>BO-INT Bl15</td>\n",
       "      <td>-</td>\n",
       "      <td>285.051868</td>\n",
       "      <td>305.0</td>\n",
       "      <td>15.000000</td>\n",
       "      <td>1300000.0</td>\n",
       "      <td>{4240.300753, 1832.801264, 2417.62}</td>\n",
       "      <td>{0,1,0}</td>\n",
       "      <td>1300000.0</td>\n",
       "      <td>-</td>\n",
       "    </tr>\n",
       "  </tbody>\n",
       "</table>\n",
       "</div>"
      ],
      "text/plain": [
       "                                          unique_ids      ids category_names  \\\n",
       "897    02002ca4-2adf-4a5e-bf93-230816bb511b-005c5e91  6053521          Walls   \n",
       "1267   e538c556-7242-485a-8e0e-bdc8fc5ca5c3-006a3793  6961043          Walls   \n",
       "8598   6f694c75-579d-4918-bd7a-bee6268d8842-0017f948  1571144         Floors   \n",
       "18027  818d733b-671f-43c4-bb01-f436f882d4b7-00057d2d   359725          Walls   \n",
       "16722  3cd6a76e-baaa-4345-876e-def6261f4ba0-0040cee2  4247266          Walls   \n",
       "\n",
       "      family_names                  type_names host_ids   BB_X_dims  \\\n",
       "897     Basic Wall                     בלוק 10        -  278.500000   \n",
       "1267    Basic Wall                     בטון 15        -   40.000000   \n",
       "8598         Floor  פנים 25 + 15 - ריצוף 60/60        -   40.000000   \n",
       "18027   Basic Wall           Generic - 350mm 2        -  630.000000   \n",
       "16722   Basic Wall                 BO-INT Bl15        -  285.051868   \n",
       "\n",
       "       BB_Y_dims   BB_Z_dims  BB_volumes  \\\n",
       "897        285.5   10.000000    795117.5   \n",
       "1267       215.0   15.000000    129000.0   \n",
       "8598       260.0  129.871986   1350000.0   \n",
       "18027     2870.0   35.000000  63300000.0   \n",
       "16722      305.0   15.000000   1300000.0   \n",
       "\n",
       "                                 BB_centers BB_plane_Zs  solid_volumes  \\\n",
       "897     {7099.118821, 4182.128799, 2502.75}    {0,-1,0}       613342.5   \n",
       "1267     {5917.667802, 4761.650604, 3157.5}     {1,0,0}       129000.0   \n",
       "8598   {-15403.160085, 8541.148375, 1245.0}     {0,1,0}      1300000.0   \n",
       "18027      {-1525.040111, -1102.930017, 35}     {0,1,0}     62900000.0   \n",
       "16722   {4240.300753, 1832.801264, 2417.62}     {0,1,0}      1300000.0   \n",
       "\n",
       "      room_names  \n",
       "897            -  \n",
       "1267           -  \n",
       "8598           -  \n",
       "18027          -  \n",
       "16722          -  "
      ]
     },
     "execution_count": 2,
     "metadata": {},
     "output_type": "execute_result"
    }
   ],
   "source": [
    "data_set_merge=pd.read_csv(\"dataset-02-clean.csv\")\n",
    "\n",
    "ds =data_set_merge.sample(frac=1)\n",
    "ds.head()"
   ]
  },
  {
   "cell_type": "markdown",
   "metadata": {
    "id": "aM_xoQ7x_tIp"
   },
   "source": [
    "Organize Dataset by Name\n"
   ]
  },
  {
   "cell_type": "code",
   "execution_count": 3,
   "metadata": {
    "colab": {
     "base_uri": "https://localhost:8080/"
    },
    "executionInfo": {
     "elapsed": 248,
     "status": "ok",
     "timestamp": 1673181762598,
     "user": {
      "displayName": "עוז קלו",
      "userId": "08013084705537700164"
     },
     "user_tz": -120
    },
    "id": "U7HNvVcnMdbq",
    "outputId": "3ea53fab-7f19-49c9-b6e7-ec69e0bd662c"
   },
   "outputs": [
    {
     "name": "stdout",
     "output_type": "stream",
     "text": [
      "[[2.78500000e+02 2.85500000e+02 1.00000000e+01 7.95117500e+05\n",
      "  6.13342500e+05]\n",
      " [4.00000000e+01 2.15000000e+02 1.50000000e+01 1.29000000e+05\n",
      "  1.29000000e+05]\n",
      " [4.00000000e+01 2.60000000e+02 1.29871986e+02 1.35000000e+06\n",
      "  1.30000000e+06]\n",
      " ...\n",
      " [2.80000000e+02 1.94987535e+02 1.00000000e+01 5.45965098e+05\n",
      "  5.45965098e+05]\n",
      " [1.95576866e+02 2.70000000e+02 1.40000000e+01 7.39280554e+05\n",
      "  5.04080555e+05]\n",
      " [1.10000000e+02 2.00000000e+02 2.86501670e+01 6.30303663e+05\n",
      "  2.25451521e+05]]\n"
     ]
    }
   ],
   "source": [
    "dataset=ds[[\"category_names\",\"BB_X_dims\",\"BB_Y_dims\",\"BB_Z_dims\",\"BB_volumes\",\"solid_volumes\"]]\n",
    "X = dataset.iloc[:, 1:].values\n",
    "y = dataset.iloc[:, 0].values\n",
    "print(X)\n",
    "# sampleArray=np.array(X)\n",
    "# convertedArray = sampleArray.astype(np.float)\n"
   ]
  },
  {
   "cell_type": "markdown",
   "metadata": {
    "id": "TP8lSx0hWMl_"
   },
   "source": [
    "Encoing the Independent Var"
   ]
  },
  {
   "cell_type": "code",
   "execution_count": 4,
   "metadata": {
    "executionInfo": {
     "elapsed": 252,
     "status": "ok",
     "timestamp": 1673181709900,
     "user": {
      "displayName": "עוז קלו",
      "userId": "08013084705537700164"
     },
     "user_tz": -120
    },
    "id": "ZaoBUHCSWPOg"
   },
   "outputs": [],
   "source": [
    "# from sklearn.compose import ColumnTransformer\n",
    "# from sklearn.preprocessing import OneHotEncoder\n",
    "# ct = ColumnTransformer(transformers=[('encoder', OneHotEncoder(), [0])], remainder='passthrough')\n",
    "# X = np.array(ct.fit_transform(X))"
   ]
  },
  {
   "cell_type": "markdown",
   "metadata": {
    "id": "TN9PvXbuUjIS"
   },
   "source": [
    "Encoding Dependent Var\n"
   ]
  },
  {
   "cell_type": "code",
   "execution_count": 5,
   "metadata": {
    "executionInfo": {
     "elapsed": 256,
     "status": "ok",
     "timestamp": 1673181765900,
     "user": {
      "displayName": "עוז קלו",
      "userId": "08013084705537700164"
     },
     "user_tz": -120
    },
    "id": "v1ThU-5qUlsM"
   },
   "outputs": [],
   "source": [
    "from sklearn.preprocessing import LabelEncoder\n",
    "le = LabelEncoder()\n",
    "y = le.fit_transform(y)"
   ]
  },
  {
   "cell_type": "markdown",
   "metadata": {
    "id": "minQwl0UKTiY"
   },
   "source": [
    "Splitting Dataset into training set and test set\n"
   ]
  },
  {
   "cell_type": "code",
   "execution_count": 6,
   "metadata": {
    "executionInfo": {
     "elapsed": 234,
     "status": "ok",
     "timestamp": 1673181767292,
     "user": {
      "displayName": "עוז קלו",
      "userId": "08013084705537700164"
     },
     "user_tz": -120
    },
    "id": "SaA-bRyxOSKB"
   },
   "outputs": [],
   "source": [
    "from sklearn.model_selection import train_test_split\n",
    "X_train, X_test, y_train, y_test = train_test_split(X, y, test_size = 0.2, random_state = 0)"
   ]
  },
  {
   "cell_type": "code",
   "execution_count": 7,
   "metadata": {
    "colab": {
     "base_uri": "https://localhost:8080/"
    },
    "executionInfo": {
     "elapsed": 271,
     "status": "ok",
     "timestamp": 1673181770524,
     "user": {
      "displayName": "עוז קלו",
      "userId": "08013084705537700164"
     },
     "user_tz": -120
    },
    "id": "DZXwL9uUU6nO",
    "outputId": "8aaf5136-5e19-4b65-f013-b18d9fa1bab5"
   },
   "outputs": [
    {
     "name": "stdout",
     "output_type": "stream",
     "text": [
      "[[2.94952478e+02 2.75500000e+02 2.00000000e+01 1.63000000e+06\n",
      "  1.63000000e+06]\n",
      " [3.10000000e+02 5.62947910e+02 2.00000000e+01 3.49000000e+06\n",
      "  3.49000000e+06]\n",
      " [9.65000000e+01 2.21000000e+02 4.00000000e+01 8.53060000e+05\n",
      "  1.08367442e+05]\n",
      " ...\n",
      " [8.20000000e+01 2.15500000e+02 2.90000000e+01 5.12459000e+05\n",
      "  1.14632114e+05]\n",
      " [9.00000000e+01 8.12800000e+01 7.50000000e+01 5.48640000e+05\n",
      "  2.87343644e+05]\n",
      " [8.50000000e+01 2.40000000e+02 2.00000000e+01 4.08000000e+05\n",
      "  4.08000000e+05]]\n"
     ]
    }
   ],
   "source": [
    "print(X_train)"
   ]
  },
  {
   "cell_type": "code",
   "execution_count": 8,
   "metadata": {
    "colab": {
     "base_uri": "https://localhost:8080/"
    },
    "executionInfo": {
     "elapsed": 249,
     "status": "ok",
     "timestamp": 1673181772748,
     "user": {
      "displayName": "עוז קלו",
      "userId": "08013084705537700164"
     },
     "user_tz": -120
    },
    "id": "7VssLFH3U6hj",
    "outputId": "157c8472-21fd-4ef6-8ef6-265c1f7f1431"
   },
   "outputs": [
    {
     "name": "stdout",
     "output_type": "stream",
     "text": [
      "[[1.84988335e+02 6.54697470e+01 7.50121600e+01 9.08482737e+05\n",
      "  2.59865007e+05]\n",
      " [4.10000000e+01 7.17010190e+01 3.96000000e+02 1.16000000e+06\n",
      "  1.16000000e+06]\n",
      " [3.30000000e+02 4.99739780e+01 2.00000000e+01 3.29828255e+05\n",
      "  3.29828255e+05]\n",
      " ...\n",
      " [2.00000000e+02 1.21296026e+02 3.98475000e+01 9.66668679e+05\n",
      "  3.97432435e+04]\n",
      " [8.50000000e+01 1.00000000e+00 8.00000000e+01 6.80000000e+03\n",
      "  6.80000000e+03]\n",
      " [5.00000000e+01 6.14113052e+02 1.03799945e+03 3.19000000e+07\n",
      "  2.01000000e+07]]\n"
     ]
    }
   ],
   "source": [
    "print(X_test)"
   ]
  },
  {
   "cell_type": "code",
   "execution_count": 9,
   "metadata": {
    "colab": {
     "base_uri": "https://localhost:8080/"
    },
    "executionInfo": {
     "elapsed": 239,
     "status": "ok",
     "timestamp": 1673181774639,
     "user": {
      "displayName": "עוז קלו",
      "userId": "08013084705537700164"
     },
     "user_tz": -120
    },
    "id": "iFTXHnErU6bs",
    "outputId": "008015cb-f69b-4173-b475-09f744c356fa"
   },
   "outputs": [
    {
     "name": "stdout",
     "output_type": "stream",
     "text": [
      "[4 4 0 ... 0 2 4]\n"
     ]
    }
   ],
   "source": [
    "print(y_train)"
   ]
  },
  {
   "cell_type": "code",
   "execution_count": 10,
   "metadata": {
    "colab": {
     "base_uri": "https://localhost:8080/"
    },
    "executionInfo": {
     "elapsed": 249,
     "status": "ok",
     "timestamp": 1673181776918,
     "user": {
      "displayName": "עוז קלו",
      "userId": "08013084705537700164"
     },
     "user_tz": -120
    },
    "id": "VxcDL272U6TL",
    "outputId": "a3923d98-843b-4745-e22e-5e6166adf8d1"
   },
   "outputs": [
    {
     "name": "stdout",
     "output_type": "stream",
     "text": [
      "[3 1 4 ... 5 3 1]\n"
     ]
    }
   ],
   "source": [
    "print(y_test)"
   ]
  },
  {
   "cell_type": "markdown",
   "metadata": {
    "id": "vlgvF0UoUS_B"
   },
   "source": [
    "Feature Scalling\n"
   ]
  },
  {
   "cell_type": "code",
   "execution_count": 11,
   "metadata": {
    "executionInfo": {
     "elapsed": 253,
     "status": "ok",
     "timestamp": 1673181779221,
     "user": {
      "displayName": "עוז קלו",
      "userId": "08013084705537700164"
     },
     "user_tz": -120
    },
    "id": "LP1hRUtGUVJg"
   },
   "outputs": [],
   "source": [
    "from sklearn.preprocessing import StandardScaler\n",
    "sc = StandardScaler()\n",
    "X_train = sc.fit_transform(X_train)\n",
    "X_test = sc.transform(X_test)"
   ]
  },
  {
   "cell_type": "markdown",
   "metadata": {
    "id": "_n5GXzB1aBue"
   },
   "source": [
    "Trainig the SVM Model on the training set\n"
   ]
  },
  {
   "cell_type": "code",
   "execution_count": 12,
   "metadata": {
    "colab": {
     "base_uri": "https://localhost:8080/"
    },
    "executionInfo": {
     "elapsed": 8138,
     "status": "ok",
     "timestamp": 1673181828030,
     "user": {
      "displayName": "עוז קלו",
      "userId": "08013084705537700164"
     },
     "user_tz": -120
    },
    "id": "PGreiQTZaGhe",
    "outputId": "7a556a8a-568c-477b-e555-a67ddce79735"
   },
   "outputs": [
    {
     "data": {
      "text/html": [
       "<style>#sk-container-id-1 {color: black;background-color: white;}#sk-container-id-1 pre{padding: 0;}#sk-container-id-1 div.sk-toggleable {background-color: white;}#sk-container-id-1 label.sk-toggleable__label {cursor: pointer;display: block;width: 100%;margin-bottom: 0;padding: 0.3em;box-sizing: border-box;text-align: center;}#sk-container-id-1 label.sk-toggleable__label-arrow:before {content: \"▸\";float: left;margin-right: 0.25em;color: #696969;}#sk-container-id-1 label.sk-toggleable__label-arrow:hover:before {color: black;}#sk-container-id-1 div.sk-estimator:hover label.sk-toggleable__label-arrow:before {color: black;}#sk-container-id-1 div.sk-toggleable__content {max-height: 0;max-width: 0;overflow: hidden;text-align: left;background-color: #f0f8ff;}#sk-container-id-1 div.sk-toggleable__content pre {margin: 0.2em;color: black;border-radius: 0.25em;background-color: #f0f8ff;}#sk-container-id-1 input.sk-toggleable__control:checked~div.sk-toggleable__content {max-height: 200px;max-width: 100%;overflow: auto;}#sk-container-id-1 input.sk-toggleable__control:checked~label.sk-toggleable__label-arrow:before {content: \"▾\";}#sk-container-id-1 div.sk-estimator input.sk-toggleable__control:checked~label.sk-toggleable__label {background-color: #d4ebff;}#sk-container-id-1 div.sk-label input.sk-toggleable__control:checked~label.sk-toggleable__label {background-color: #d4ebff;}#sk-container-id-1 input.sk-hidden--visually {border: 0;clip: rect(1px 1px 1px 1px);clip: rect(1px, 1px, 1px, 1px);height: 1px;margin: -1px;overflow: hidden;padding: 0;position: absolute;width: 1px;}#sk-container-id-1 div.sk-estimator {font-family: monospace;background-color: #f0f8ff;border: 1px dotted black;border-radius: 0.25em;box-sizing: border-box;margin-bottom: 0.5em;}#sk-container-id-1 div.sk-estimator:hover {background-color: #d4ebff;}#sk-container-id-1 div.sk-parallel-item::after {content: \"\";width: 100%;border-bottom: 1px solid gray;flex-grow: 1;}#sk-container-id-1 div.sk-label:hover label.sk-toggleable__label {background-color: #d4ebff;}#sk-container-id-1 div.sk-serial::before {content: \"\";position: absolute;border-left: 1px solid gray;box-sizing: border-box;top: 0;bottom: 0;left: 50%;z-index: 0;}#sk-container-id-1 div.sk-serial {display: flex;flex-direction: column;align-items: center;background-color: white;padding-right: 0.2em;padding-left: 0.2em;position: relative;}#sk-container-id-1 div.sk-item {position: relative;z-index: 1;}#sk-container-id-1 div.sk-parallel {display: flex;align-items: stretch;justify-content: center;background-color: white;position: relative;}#sk-container-id-1 div.sk-item::before, #sk-container-id-1 div.sk-parallel-item::before {content: \"\";position: absolute;border-left: 1px solid gray;box-sizing: border-box;top: 0;bottom: 0;left: 50%;z-index: -1;}#sk-container-id-1 div.sk-parallel-item {display: flex;flex-direction: column;z-index: 1;position: relative;background-color: white;}#sk-container-id-1 div.sk-parallel-item:first-child::after {align-self: flex-end;width: 50%;}#sk-container-id-1 div.sk-parallel-item:last-child::after {align-self: flex-start;width: 50%;}#sk-container-id-1 div.sk-parallel-item:only-child::after {width: 0;}#sk-container-id-1 div.sk-dashed-wrapped {border: 1px dashed gray;margin: 0 0.4em 0.5em 0.4em;box-sizing: border-box;padding-bottom: 0.4em;background-color: white;}#sk-container-id-1 div.sk-label label {font-family: monospace;font-weight: bold;display: inline-block;line-height: 1.2em;}#sk-container-id-1 div.sk-label-container {text-align: center;}#sk-container-id-1 div.sk-container {/* jupyter's `normalize.less` sets `[hidden] { display: none; }` but bootstrap.min.css set `[hidden] { display: none !important; }` so we also need the `!important` here to be able to override the default hidden behavior on the sphinx rendered scikit-learn.org. See: https://github.com/scikit-learn/scikit-learn/issues/21755 */display: inline-block !important;position: relative;}#sk-container-id-1 div.sk-text-repr-fallback {display: none;}</style><div id=\"sk-container-id-1\" class=\"sk-top-container\"><div class=\"sk-text-repr-fallback\"><pre>SVC(kernel=&#x27;linear&#x27;, random_state=0)</pre><b>In a Jupyter environment, please rerun this cell to show the HTML representation or trust the notebook. <br />On GitHub, the HTML representation is unable to render, please try loading this page with nbviewer.org.</b></div><div class=\"sk-container\" hidden><div class=\"sk-item\"><div class=\"sk-estimator sk-toggleable\"><input class=\"sk-toggleable__control sk-hidden--visually\" id=\"sk-estimator-id-1\" type=\"checkbox\" checked><label for=\"sk-estimator-id-1\" class=\"sk-toggleable__label sk-toggleable__label-arrow\">SVC</label><div class=\"sk-toggleable__content\"><pre>SVC(kernel=&#x27;linear&#x27;, random_state=0)</pre></div></div></div></div></div>"
      ],
      "text/plain": [
       "SVC(kernel='linear', random_state=0)"
      ]
     },
     "execution_count": 12,
     "metadata": {},
     "output_type": "execute_result"
    }
   ],
   "source": [
    "from sklearn.svm import SVC\n",
    "classifier = SVC(kernel = 'linear', random_state = 0)\n",
    "classifier.fit(X_train, y_train)"
   ]
  },
  {
   "cell_type": "markdown",
   "metadata": {
    "id": "ClRdKvEoaMcA"
   },
   "source": [
    "Confusion Matrix\n"
   ]
  },
  {
   "cell_type": "code",
   "execution_count": 13,
   "metadata": {
    "colab": {
     "base_uri": "https://localhost:8080/"
    },
    "executionInfo": {
     "elapsed": 1172,
     "status": "ok",
     "timestamp": 1673181892155,
     "user": {
      "displayName": "עוז קלו",
      "userId": "08013084705537700164"
     },
     "user_tz": -120
    },
    "id": "OuLS--DQaQt4",
    "outputId": "898d0b3d-e37b-4e18-ab4a-a20d969526a8"
   },
   "outputs": [
    {
     "name": "stdout",
     "output_type": "stream",
     "text": [
      "[[  15    0   23    0  435    0]\n",
      " [   1  218   47    4   11    0]\n",
      " [   0   27  304    0   21    0]\n",
      " [  13    2  253    2   20    0]\n",
      " [   1    0   12    0 1962    0]\n",
      " [   2    7  120    0  260    0]]\n"
     ]
    },
    {
     "data": {
      "text/plain": [
       "0.6651595744680852"
      ]
     },
     "execution_count": 13,
     "metadata": {},
     "output_type": "execute_result"
    }
   ],
   "source": [
    "from sklearn.metrics import confusion_matrix, accuracy_score\n",
    "y_pred = classifier.predict(X_test)\n",
    "cm = confusion_matrix(y_test, y_pred)\n",
    "print(cm)\n",
    "accuracy_score(y_test, y_pred)"
   ]
  },
  {
   "cell_type": "code",
   "execution_count": null,
   "metadata": {},
   "outputs": [],
   "source": []
  }
 ],
 "metadata": {
  "colab": {
   "authorship_tag": "ABX9TyO5l6QzAMYL192m3nH76nKp",
   "mount_file_id": "1cuN3yx0mevRSoULV6bY6fAg9TUerpv73",
   "provenance": []
  },
  "kernelspec": {
   "display_name": "Python 3 (ipykernel)",
   "language": "python",
   "name": "python3"
  },
  "language_info": {
   "codemirror_mode": {
    "name": "ipython",
    "version": 3
   },
   "file_extension": ".py",
   "mimetype": "text/x-python",
   "name": "python",
   "nbconvert_exporter": "python",
   "pygments_lexer": "ipython3",
   "version": "3.10.5"
  }
 },
 "nbformat": 4,
 "nbformat_minor": 1
}

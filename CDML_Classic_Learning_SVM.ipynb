{
 "cells": [
  {
   "cell_type": "markdown",
   "metadata": {
    "id": "tEq2zCO0-o9y"
   },
   "source": [
    "\n",
    "\n",
    "> Import Libraries\n",
    "\n",
    "\n"
   ]
  },
  {
   "cell_type": "code",
   "execution_count": 165,
   "metadata": {
    "executionInfo": {
     "elapsed": 276,
     "status": "ok",
     "timestamp": 1673181682686,
     "user": {
      "displayName": "עוז קלו",
      "userId": "08013084705537700164"
     },
     "user_tz": -120
    },
    "id": "z2COgSdq-oNF"
   },
   "outputs": [],
   "source": [
    "import numpy as np\n",
    "import matplotlib.pyplot as plt\n",
    "import pandas as pd\n",
    "import sklearn"
   ]
  },
  {
   "cell_type": "markdown",
   "metadata": {
    "id": "fxW8qH_oPBbo"
   },
   "source": [
    "Import Data and Shuffle"
   ]
  },
  {
   "cell_type": "code",
   "execution_count": 166,
   "metadata": {
    "colab": {
     "base_uri": "https://localhost:8080/",
     "height": 582
    },
    "executionInfo": {
     "elapsed": 268,
     "status": "ok",
     "timestamp": 1673181683970,
     "user": {
      "displayName": "עוז קלו",
      "userId": "08013084705537700164"
     },
     "user_tz": -120
    },
    "id": "SboSlvNGDmBR",
    "outputId": "905b301e-19b3-432a-9000-0bac5f54d5f8"
   },
   "outputs": [
    {
     "data": {
      "text/html": [
       "<div>\n",
       "<style scoped>\n",
       "    .dataframe tbody tr th:only-of-type {\n",
       "        vertical-align: middle;\n",
       "    }\n",
       "\n",
       "    .dataframe tbody tr th {\n",
       "        vertical-align: top;\n",
       "    }\n",
       "\n",
       "    .dataframe thead th {\n",
       "        text-align: right;\n",
       "    }\n",
       "</style>\n",
       "<table border=\"1\" class=\"dataframe\">\n",
       "  <thead>\n",
       "    <tr style=\"text-align: right;\">\n",
       "      <th></th>\n",
       "      <th>unique_ids</th>\n",
       "      <th>ids</th>\n",
       "      <th>category_names</th>\n",
       "      <th>family_names</th>\n",
       "      <th>type_names</th>\n",
       "      <th>host_ids</th>\n",
       "      <th>BB_X_dims</th>\n",
       "      <th>BB_Y_dims</th>\n",
       "      <th>BB_Z_dims</th>\n",
       "      <th>BB_volumes</th>\n",
       "      <th>BB_centers</th>\n",
       "      <th>BB_plane_Zs</th>\n",
       "      <th>solid_volumes</th>\n",
       "      <th>room_names</th>\n",
       "    </tr>\n",
       "  </thead>\n",
       "  <tbody>\n",
       "    <tr>\n",
       "      <th>15769</th>\n",
       "      <td>3de97adc-8480-40d2-a1b6-967092b9f58b-0017661b</td>\n",
       "      <td>1533467</td>\n",
       "      <td>Windows</td>\n",
       "      <td>BO-Klil Sliding-2 Panels 9400</td>\n",
       "      <td>BO-Klil Sliding-2 Panels 160/250 9400</td>\n",
       "      <td>bdfd839e-fa74-47ef-9124-70299d21d535-000d5057</td>\n",
       "      <td>170.00000</td>\n",
       "      <td>251.979436</td>\n",
       "      <td>22.098073</td>\n",
       "      <td>9.466042e+05</td>\n",
       "      <td>{372.246589, 2244.30126, 2734.130282}</td>\n",
       "      <td>{-1,0,0}</td>\n",
       "      <td>104718.66150</td>\n",
       "      <td>-</td>\n",
       "    </tr>\n",
       "    <tr>\n",
       "      <th>6778</th>\n",
       "      <td>dedb24b2-0366-4fca-8238-2a3f87ae044e-006ca182</td>\n",
       "      <td>7119234</td>\n",
       "      <td>Doors</td>\n",
       "      <td>Access_Panel_Door_13616</td>\n",
       "      <td>דלתות שרות פח 100 ס\"מ</td>\n",
       "      <td>dedb24b2-0366-4fca-8238-2a3f87ae044e-006ca043</td>\n",
       "      <td>99.00000</td>\n",
       "      <td>204.000000</td>\n",
       "      <td>2.635000</td>\n",
       "      <td>5.321646e+04</td>\n",
       "      <td>{-2623.655756, -292.515918, 272.0}</td>\n",
       "      <td>{-1,0,0}</td>\n",
       "      <td>40006.40594</td>\n",
       "      <td>-</td>\n",
       "    </tr>\n",
       "    <tr>\n",
       "      <th>18397</th>\n",
       "      <td>0f9a5625-a9c2-4a9b-b2d1-c98c30be63a8-000e72df</td>\n",
       "      <td>946911</td>\n",
       "      <td>Furniture</td>\n",
       "      <td>HermanMiller_Collection_TavoloXZ3TableRound</td>\n",
       "      <td>Round</td>\n",
       "      <td>-</td>\n",
       "      <td>70.23988</td>\n",
       "      <td>119.992676</td>\n",
       "      <td>119.992676</td>\n",
       "      <td>1.010000e+06</td>\n",
       "      <td>{3625.159889, -986.745872, 335.049992}</td>\n",
       "      <td>{0,1,0}</td>\n",
       "      <td>33102.40075</td>\n",
       "      <td>-</td>\n",
       "    </tr>\n",
       "    <tr>\n",
       "      <th>9996</th>\n",
       "      <td>0b28e87c-07bb-4690-a84e-2d03ac665ce6-00f759fb</td>\n",
       "      <td>16210427</td>\n",
       "      <td>Windows</td>\n",
       "      <td>קיפ ציר תחתון</td>\n",
       "      <td>75/105 4</td>\n",
       "      <td>0b28e87c-07bb-4690-a84e-2d03ac665ce6-00f759e3</td>\n",
       "      <td>83.00000</td>\n",
       "      <td>133.000000</td>\n",
       "      <td>29.843215</td>\n",
       "      <td>3.294392e+05</td>\n",
       "      <td>{1886.611515, 525.180582, 1512.5}</td>\n",
       "      <td>{1,0,0}</td>\n",
       "      <td>36189.70900</td>\n",
       "      <td>-</td>\n",
       "    </tr>\n",
       "    <tr>\n",
       "      <th>880</th>\n",
       "      <td>6a92f13b-e972-4a49-ac87-2891c797679c-005bddff</td>\n",
       "      <td>6020607</td>\n",
       "      <td>Doors</td>\n",
       "      <td>דלת הזזה דו כנפית+סף</td>\n",
       "      <td>250/230</td>\n",
       "      <td>6a92f13b-e972-4a49-ac87-2891c797679c-005bddb2</td>\n",
       "      <td>250.00000</td>\n",
       "      <td>232.000000</td>\n",
       "      <td>10.000000</td>\n",
       "      <td>5.800000e+05</td>\n",
       "      <td>{7543.868821, 5333.176291, 2146.9}</td>\n",
       "      <td>{1,0,0}</td>\n",
       "      <td>86040.00000</td>\n",
       "      <td>-</td>\n",
       "    </tr>\n",
       "  </tbody>\n",
       "</table>\n",
       "</div>"
      ],
      "text/plain": [
       "                                          unique_ids       ids category_names  \\\n",
       "15769  3de97adc-8480-40d2-a1b6-967092b9f58b-0017661b   1533467        Windows   \n",
       "6778   dedb24b2-0366-4fca-8238-2a3f87ae044e-006ca182   7119234          Doors   \n",
       "18397  0f9a5625-a9c2-4a9b-b2d1-c98c30be63a8-000e72df    946911      Furniture   \n",
       "9996   0b28e87c-07bb-4690-a84e-2d03ac665ce6-00f759fb  16210427        Windows   \n",
       "880    6a92f13b-e972-4a49-ac87-2891c797679c-005bddff   6020607          Doors   \n",
       "\n",
       "                                      family_names  \\\n",
       "15769                BO-Klil Sliding-2 Panels 9400   \n",
       "6778                       Access_Panel_Door_13616   \n",
       "18397  HermanMiller_Collection_TavoloXZ3TableRound   \n",
       "9996                                 קיפ ציר תחתון   \n",
       "880                           דלת הזזה דו כנפית+סף   \n",
       "\n",
       "                                  type_names  \\\n",
       "15769  BO-Klil Sliding-2 Panels 160/250 9400   \n",
       "6778                   דלתות שרות פח 100 ס\"מ   \n",
       "18397                                  Round   \n",
       "9996                                75/105 4   \n",
       "880                                  250/230   \n",
       "\n",
       "                                            host_ids  BB_X_dims   BB_Y_dims  \\\n",
       "15769  bdfd839e-fa74-47ef-9124-70299d21d535-000d5057  170.00000  251.979436   \n",
       "6778   dedb24b2-0366-4fca-8238-2a3f87ae044e-006ca043   99.00000  204.000000   \n",
       "18397                                              -   70.23988  119.992676   \n",
       "9996   0b28e87c-07bb-4690-a84e-2d03ac665ce6-00f759e3   83.00000  133.000000   \n",
       "880    6a92f13b-e972-4a49-ac87-2891c797679c-005bddb2  250.00000  232.000000   \n",
       "\n",
       "        BB_Z_dims    BB_volumes                              BB_centers  \\\n",
       "15769   22.098073  9.466042e+05   {372.246589, 2244.30126, 2734.130282}   \n",
       "6778     2.635000  5.321646e+04      {-2623.655756, -292.515918, 272.0}   \n",
       "18397  119.992676  1.010000e+06  {3625.159889, -986.745872, 335.049992}   \n",
       "9996    29.843215  3.294392e+05       {1886.611515, 525.180582, 1512.5}   \n",
       "880     10.000000  5.800000e+05      {7543.868821, 5333.176291, 2146.9}   \n",
       "\n",
       "      BB_plane_Zs  solid_volumes room_names  \n",
       "15769    {-1,0,0}   104718.66150          -  \n",
       "6778     {-1,0,0}    40006.40594          -  \n",
       "18397     {0,1,0}    33102.40075          -  \n",
       "9996      {1,0,0}    36189.70900          -  \n",
       "880       {1,0,0}    86040.00000          -  "
      ]
     },
     "execution_count": 166,
     "metadata": {},
     "output_type": "execute_result"
    }
   ],
   "source": [
    "data_set_merge=pd.read_csv(\"dataset-02-clean.csv\")\n",
    "ds =data_set_merge.sample(frac=1)\n",
    "ds.head()"
   ]
  },
  {
   "cell_type": "markdown",
   "metadata": {
    "id": "aM_xoQ7x_tIp"
   },
   "source": [
    "Organize Dataset by Name\n"
   ]
  },
  {
   "cell_type": "code",
   "execution_count": 185,
   "metadata": {
    "colab": {
     "base_uri": "https://localhost:8080/"
    },
    "executionInfo": {
     "elapsed": 248,
     "status": "ok",
     "timestamp": 1673181762598,
     "user": {
      "displayName": "עוז קלו",
      "userId": "08013084705537700164"
     },
     "user_tz": -120
    },
    "id": "U7HNvVcnMdbq",
    "outputId": "3ea53fab-7f19-49c9-b6e7-ec69e0bd662c"
   },
   "outputs": [
    {
     "name": "stdout",
     "output_type": "stream",
     "text": [
      "[[170.0 251.979436 22.098073 946604.2154 104718.6615\n",
      "  'bdfd839e-fa74-47ef-9124-70299d21d535-000d5057']\n",
      " [99.0 204.0 2.635 53216.46 40006.40594\n",
      "  'dedb24b2-0366-4fca-8238-2a3f87ae044e-006ca043']\n",
      " [70.23988 119.992676 119.992676 1010000.0 33102.40075 '-']\n",
      " ...\n",
      " [189.5 134.016509 25.0 634903.2128 634903.2128 '-']\n",
      " [290.0 245.015878 10.0 710546.0476 710546.0476 '-']\n",
      " [75.172378 310.0 35.0 815620.2987 775667.4633 '-']]\n",
      "amount of categries  5\n"
     ]
    }
   ],
   "source": [
    "dataset = ds[[\"category_names\", \"BB_X_dims\", \"BB_Y_dims\",\n",
    "              \"BB_Z_dims\", \"BB_volumes\", \"solid_volumes\", \"host_ids\"\n",
    "              ]]\n",
    "\n",
    "\n",
    "X = dataset.iloc[:, 1:].values\n",
    "Y = dataset.iloc[:, 0].values\n",
    "print(X)\n",
    "### replace plumbing fixtures with furniture if neccessary\n",
    "Y = [item if item != 'Plumbing Fixtures' else \"Furniture\" for item in Y]\n",
    "num_of_categories = len(set(Y))\n",
    "print(\"amount of categries \", num_of_categories)\n"
   ]
  },
  {
   "cell_type": "markdown",
   "metadata": {
    "id": "TP8lSx0hWMl_"
   },
   "source": [
    "Encoing the Independent Var"
   ]
  },
  {
   "cell_type": "code",
   "execution_count": 168,
   "metadata": {
    "executionInfo": {
     "elapsed": 252,
     "status": "ok",
     "timestamp": 1673181709900,
     "user": {
      "displayName": "עוז קלו",
      "userId": "08013084705537700164"
     },
     "user_tz": -120
    },
    "id": "ZaoBUHCSWPOg"
   },
   "outputs": [],
   "source": [
    "# from sklearn.compose import ColumnTransformer\n",
    "# from sklearn.preprocessing import OneHotEncoder\n",
    "# ct = ColumnTransformer(transformers=[('encoder', OneHotEncoder(), [0])], remainder='passthrough')\n",
    "# X = np.array(ct.fit_transform(X))"
   ]
  },
  {
   "cell_type": "markdown",
   "metadata": {
    "id": "TN9PvXbuUjIS"
   },
   "source": [
    "Encoding Dependent Var\n"
   ]
  },
  {
   "cell_type": "code",
   "execution_count": 169,
   "metadata": {
    "executionInfo": {
     "elapsed": 256,
     "status": "ok",
     "timestamp": 1673181765900,
     "user": {
      "displayName": "עוז קלו",
      "userId": "08013084705537700164"
     },
     "user_tz": -120
    },
    "id": "v1ThU-5qUlsM"
   },
   "outputs": [],
   "source": [
    "from sklearn.preprocessing import LabelEncoder\n",
    "le = LabelEncoder()\n",
    "Y = le.fit_transform(Y)"
   ]
  },
  {
   "cell_type": "markdown",
   "metadata": {
    "id": "minQwl0UKTiY"
   },
   "source": [
    "Splitting Dataset into training set and test set\n"
   ]
  },
  {
   "cell_type": "code",
   "execution_count": 170,
   "metadata": {
    "executionInfo": {
     "elapsed": 234,
     "status": "ok",
     "timestamp": 1673181767292,
     "user": {
      "displayName": "עוז קלו",
      "userId": "08013084705537700164"
     },
     "user_tz": -120
    },
    "id": "SaA-bRyxOSKB"
   },
   "outputs": [],
   "source": [
    "from sklearn.model_selection import train_test_split\n",
    "x_train, x_test, y_train, y_test = train_test_split(X, Y, test_size = 0.2, random_state = 0)"
   ]
  },
  {
   "cell_type": "code",
   "execution_count": 171,
   "metadata": {
    "colab": {
     "base_uri": "https://localhost:8080/"
    },
    "executionInfo": {
     "elapsed": 271,
     "status": "ok",
     "timestamp": 1673181770524,
     "user": {
      "displayName": "עוז קלו",
      "userId": "08013084705537700164"
     },
     "user_tz": -120
    },
    "id": "DZXwL9uUU6nO",
    "outputId": "8aaf5136-5e19-4b65-f013-b18d9fa1bab5"
   },
   "outputs": [
    {
     "name": "stdout",
     "output_type": "stream",
     "text": [
      "[65.0 220.0 7.05 100815.0 3189.584592\n",
      " '668d7962-cfa1-4235-858f-19c94db6be83-001b4bcd']\n"
     ]
    }
   ],
   "source": [
    "print(x_train[0])"
   ]
  },
  {
   "cell_type": "code",
   "execution_count": 172,
   "metadata": {
    "colab": {
     "base_uri": "https://localhost:8080/"
    },
    "executionInfo": {
     "elapsed": 249,
     "status": "ok",
     "timestamp": 1673181772748,
     "user": {
      "displayName": "עוז קלו",
      "userId": "08013084705537700164"
     },
     "user_tz": -120
    },
    "id": "7VssLFH3U6hj",
    "outputId": "157c8472-21fd-4ef6-8ef6-265c1f7f1431"
   },
   "outputs": [
    {
     "name": "stdout",
     "output_type": "stream",
     "text": [
      "[80.419363 289.5 10.0 232814.055 232814.055 '-']\n"
     ]
    }
   ],
   "source": [
    "print(x_test[0])"
   ]
  },
  {
   "cell_type": "code",
   "execution_count": 173,
   "metadata": {
    "colab": {
     "base_uri": "https://localhost:8080/"
    },
    "executionInfo": {
     "elapsed": 239,
     "status": "ok",
     "timestamp": 1673181774639,
     "user": {
      "displayName": "עוז קלו",
      "userId": "08013084705537700164"
     },
     "user_tz": -120
    },
    "id": "iFTXHnErU6bs",
    "outputId": "008015cb-f69b-4173-b475-09f744c356fa"
   },
   "outputs": [
    {
     "name": "stdout",
     "output_type": "stream",
     "text": [
      "[0 3 0 ... 3 0 1]\n"
     ]
    }
   ],
   "source": [
    "print(y_train)"
   ]
  },
  {
   "cell_type": "code",
   "execution_count": 174,
   "metadata": {
    "colab": {
     "base_uri": "https://localhost:8080/"
    },
    "executionInfo": {
     "elapsed": 249,
     "status": "ok",
     "timestamp": 1673181776918,
     "user": {
      "displayName": "עוז קלו",
      "userId": "08013084705537700164"
     },
     "user_tz": -120
    },
    "id": "VxcDL272U6TL",
    "outputId": "a3923d98-843b-4745-e22e-5e6166adf8d1"
   },
   "outputs": [
    {
     "name": "stdout",
     "output_type": "stream",
     "text": [
      "[3 3 0 ... 0 3 2]\n"
     ]
    }
   ],
   "source": [
    "print(y_test)\n"
   ]
  },
  {
   "cell_type": "markdown",
   "metadata": {
    "id": "vlgvF0UoUS_B"
   },
   "source": [
    "Feature Scalling\n"
   ]
  },
  {
   "cell_type": "code",
   "execution_count": 175,
   "metadata": {
    "executionInfo": {
     "elapsed": 253,
     "status": "ok",
     "timestamp": 1673181779221,
     "user": {
      "displayName": "עוז קלו",
      "userId": "08013084705537700164"
     },
     "user_tz": -120
    },
    "id": "LP1hRUtGUVJg"
   },
   "outputs": [
    {
     "ename": "ValueError",
     "evalue": "could not convert string to float: '668d7962-cfa1-4235-858f-19c94db6be83-001b4bcd'",
     "output_type": "error",
     "traceback": [
      "\u001b[1;31m---------------------------------------------------------------------------\u001b[0m",
      "\u001b[1;31mValueError\u001b[0m                                Traceback (most recent call last)",
      "Cell \u001b[1;32mIn[175], line 3\u001b[0m\n\u001b[0;32m      1\u001b[0m \u001b[39mfrom\u001b[39;00m \u001b[39msklearn\u001b[39;00m\u001b[39m.\u001b[39;00m\u001b[39mpreprocessing\u001b[39;00m \u001b[39mimport\u001b[39;00m StandardScaler\n\u001b[0;32m      2\u001b[0m sc \u001b[39m=\u001b[39m StandardScaler()\n\u001b[1;32m----> 3\u001b[0m x_train \u001b[39m=\u001b[39m sc\u001b[39m.\u001b[39;49mfit_transform(x_train)\n\u001b[0;32m      4\u001b[0m x_test \u001b[39m=\u001b[39m sc\u001b[39m.\u001b[39mtransform(x_test)\n",
      "File \u001b[1;32mc:\\code\\bim-to-graph\\lib\\site-packages\\sklearn\\utils\\_set_output.py:142\u001b[0m, in \u001b[0;36m_wrap_method_output.<locals>.wrapped\u001b[1;34m(self, X, *args, **kwargs)\u001b[0m\n\u001b[0;32m    140\u001b[0m \u001b[39m@wraps\u001b[39m(f)\n\u001b[0;32m    141\u001b[0m \u001b[39mdef\u001b[39;00m \u001b[39mwrapped\u001b[39m(\u001b[39mself\u001b[39m, X, \u001b[39m*\u001b[39margs, \u001b[39m*\u001b[39m\u001b[39m*\u001b[39mkwargs):\n\u001b[1;32m--> 142\u001b[0m     data_to_wrap \u001b[39m=\u001b[39m f(\u001b[39mself\u001b[39m, X, \u001b[39m*\u001b[39margs, \u001b[39m*\u001b[39m\u001b[39m*\u001b[39mkwargs)\n\u001b[0;32m    143\u001b[0m     \u001b[39mif\u001b[39;00m \u001b[39misinstance\u001b[39m(data_to_wrap, \u001b[39mtuple\u001b[39m):\n\u001b[0;32m    144\u001b[0m         \u001b[39m# only wrap the first output for cross decomposition\u001b[39;00m\n\u001b[0;32m    145\u001b[0m         \u001b[39mreturn\u001b[39;00m (\n\u001b[0;32m    146\u001b[0m             _wrap_data_with_container(method, data_to_wrap[\u001b[39m0\u001b[39m], X, \u001b[39mself\u001b[39m),\n\u001b[0;32m    147\u001b[0m             \u001b[39m*\u001b[39mdata_to_wrap[\u001b[39m1\u001b[39m:],\n\u001b[0;32m    148\u001b[0m         )\n",
      "File \u001b[1;32mc:\\code\\bim-to-graph\\lib\\site-packages\\sklearn\\utils\\_set_output.py:142\u001b[0m, in \u001b[0;36m_wrap_method_output.<locals>.wrapped\u001b[1;34m(self, X, *args, **kwargs)\u001b[0m\n\u001b[0;32m    140\u001b[0m \u001b[39m@wraps\u001b[39m(f)\n\u001b[0;32m    141\u001b[0m \u001b[39mdef\u001b[39;00m \u001b[39mwrapped\u001b[39m(\u001b[39mself\u001b[39m, X, \u001b[39m*\u001b[39margs, \u001b[39m*\u001b[39m\u001b[39m*\u001b[39mkwargs):\n\u001b[1;32m--> 142\u001b[0m     data_to_wrap \u001b[39m=\u001b[39m f(\u001b[39mself\u001b[39m, X, \u001b[39m*\u001b[39margs, \u001b[39m*\u001b[39m\u001b[39m*\u001b[39mkwargs)\n\u001b[0;32m    143\u001b[0m     \u001b[39mif\u001b[39;00m \u001b[39misinstance\u001b[39m(data_to_wrap, \u001b[39mtuple\u001b[39m):\n\u001b[0;32m    144\u001b[0m         \u001b[39m# only wrap the first output for cross decomposition\u001b[39;00m\n\u001b[0;32m    145\u001b[0m         \u001b[39mreturn\u001b[39;00m (\n\u001b[0;32m    146\u001b[0m             _wrap_data_with_container(method, data_to_wrap[\u001b[39m0\u001b[39m], X, \u001b[39mself\u001b[39m),\n\u001b[0;32m    147\u001b[0m             \u001b[39m*\u001b[39mdata_to_wrap[\u001b[39m1\u001b[39m:],\n\u001b[0;32m    148\u001b[0m         )\n",
      "File \u001b[1;32mc:\\code\\bim-to-graph\\lib\\site-packages\\sklearn\\base.py:848\u001b[0m, in \u001b[0;36mTransformerMixin.fit_transform\u001b[1;34m(self, X, y, **fit_params)\u001b[0m\n\u001b[0;32m    844\u001b[0m \u001b[39m# non-optimized default implementation; override when a better\u001b[39;00m\n\u001b[0;32m    845\u001b[0m \u001b[39m# method is possible for a given clustering algorithm\u001b[39;00m\n\u001b[0;32m    846\u001b[0m \u001b[39mif\u001b[39;00m y \u001b[39mis\u001b[39;00m \u001b[39mNone\u001b[39;00m:\n\u001b[0;32m    847\u001b[0m     \u001b[39m# fit method of arity 1 (unsupervised transformation)\u001b[39;00m\n\u001b[1;32m--> 848\u001b[0m     \u001b[39mreturn\u001b[39;00m \u001b[39mself\u001b[39m\u001b[39m.\u001b[39mfit(X, \u001b[39m*\u001b[39m\u001b[39m*\u001b[39mfit_params)\u001b[39m.\u001b[39mtransform(X)\n\u001b[0;32m    849\u001b[0m \u001b[39melse\u001b[39;00m:\n\u001b[0;32m    850\u001b[0m     \u001b[39m# fit method of arity 2 (supervised transformation)\u001b[39;00m\n\u001b[0;32m    851\u001b[0m     \u001b[39mreturn\u001b[39;00m \u001b[39mself\u001b[39m\u001b[39m.\u001b[39mfit(X, y, \u001b[39m*\u001b[39m\u001b[39m*\u001b[39mfit_params)\u001b[39m.\u001b[39mtransform(X)\n",
      "File \u001b[1;32mc:\\code\\bim-to-graph\\lib\\site-packages\\sklearn\\preprocessing\\_data.py:824\u001b[0m, in \u001b[0;36mStandardScaler.fit\u001b[1;34m(self, X, y, sample_weight)\u001b[0m\n\u001b[0;32m    822\u001b[0m \u001b[39m# Reset internal state before fitting\u001b[39;00m\n\u001b[0;32m    823\u001b[0m \u001b[39mself\u001b[39m\u001b[39m.\u001b[39m_reset()\n\u001b[1;32m--> 824\u001b[0m \u001b[39mreturn\u001b[39;00m \u001b[39mself\u001b[39;49m\u001b[39m.\u001b[39;49mpartial_fit(X, y, sample_weight)\n",
      "File \u001b[1;32mc:\\code\\bim-to-graph\\lib\\site-packages\\sklearn\\preprocessing\\_data.py:861\u001b[0m, in \u001b[0;36mStandardScaler.partial_fit\u001b[1;34m(self, X, y, sample_weight)\u001b[0m\n\u001b[0;32m    858\u001b[0m \u001b[39mself\u001b[39m\u001b[39m.\u001b[39m_validate_params()\n\u001b[0;32m    860\u001b[0m first_call \u001b[39m=\u001b[39m \u001b[39mnot\u001b[39;00m \u001b[39mhasattr\u001b[39m(\u001b[39mself\u001b[39m, \u001b[39m\"\u001b[39m\u001b[39mn_samples_seen_\u001b[39m\u001b[39m\"\u001b[39m)\n\u001b[1;32m--> 861\u001b[0m X \u001b[39m=\u001b[39m \u001b[39mself\u001b[39;49m\u001b[39m.\u001b[39;49m_validate_data(\n\u001b[0;32m    862\u001b[0m     X,\n\u001b[0;32m    863\u001b[0m     accept_sparse\u001b[39m=\u001b[39;49m(\u001b[39m\"\u001b[39;49m\u001b[39mcsr\u001b[39;49m\u001b[39m\"\u001b[39;49m, \u001b[39m\"\u001b[39;49m\u001b[39mcsc\u001b[39;49m\u001b[39m\"\u001b[39;49m),\n\u001b[0;32m    864\u001b[0m     dtype\u001b[39m=\u001b[39;49mFLOAT_DTYPES,\n\u001b[0;32m    865\u001b[0m     force_all_finite\u001b[39m=\u001b[39;49m\u001b[39m\"\u001b[39;49m\u001b[39mallow-nan\u001b[39;49m\u001b[39m\"\u001b[39;49m,\n\u001b[0;32m    866\u001b[0m     reset\u001b[39m=\u001b[39;49mfirst_call,\n\u001b[0;32m    867\u001b[0m )\n\u001b[0;32m    868\u001b[0m n_features \u001b[39m=\u001b[39m X\u001b[39m.\u001b[39mshape[\u001b[39m1\u001b[39m]\n\u001b[0;32m    870\u001b[0m \u001b[39mif\u001b[39;00m sample_weight \u001b[39mis\u001b[39;00m \u001b[39mnot\u001b[39;00m \u001b[39mNone\u001b[39;00m:\n",
      "File \u001b[1;32mc:\\code\\bim-to-graph\\lib\\site-packages\\sklearn\\base.py:535\u001b[0m, in \u001b[0;36mBaseEstimator._validate_data\u001b[1;34m(self, X, y, reset, validate_separately, **check_params)\u001b[0m\n\u001b[0;32m    533\u001b[0m     \u001b[39mraise\u001b[39;00m \u001b[39mValueError\u001b[39;00m(\u001b[39m\"\u001b[39m\u001b[39mValidation should be done on X, y or both.\u001b[39m\u001b[39m\"\u001b[39m)\n\u001b[0;32m    534\u001b[0m \u001b[39melif\u001b[39;00m \u001b[39mnot\u001b[39;00m no_val_X \u001b[39mand\u001b[39;00m no_val_y:\n\u001b[1;32m--> 535\u001b[0m     X \u001b[39m=\u001b[39m check_array(X, input_name\u001b[39m=\u001b[39m\u001b[39m\"\u001b[39m\u001b[39mX\u001b[39m\u001b[39m\"\u001b[39m, \u001b[39m*\u001b[39m\u001b[39m*\u001b[39mcheck_params)\n\u001b[0;32m    536\u001b[0m     out \u001b[39m=\u001b[39m X\n\u001b[0;32m    537\u001b[0m \u001b[39melif\u001b[39;00m no_val_X \u001b[39mand\u001b[39;00m \u001b[39mnot\u001b[39;00m no_val_y:\n",
      "File \u001b[1;32mc:\\code\\bim-to-graph\\lib\\site-packages\\sklearn\\utils\\validation.py:877\u001b[0m, in \u001b[0;36mcheck_array\u001b[1;34m(array, accept_sparse, accept_large_sparse, dtype, order, copy, force_all_finite, ensure_2d, allow_nd, ensure_min_samples, ensure_min_features, estimator, input_name)\u001b[0m\n\u001b[0;32m    875\u001b[0m         array \u001b[39m=\u001b[39m xp\u001b[39m.\u001b[39mastype(array, dtype, copy\u001b[39m=\u001b[39m\u001b[39mFalse\u001b[39;00m)\n\u001b[0;32m    876\u001b[0m     \u001b[39melse\u001b[39;00m:\n\u001b[1;32m--> 877\u001b[0m         array \u001b[39m=\u001b[39m _asarray_with_order(array, order\u001b[39m=\u001b[39;49morder, dtype\u001b[39m=\u001b[39;49mdtype, xp\u001b[39m=\u001b[39;49mxp)\n\u001b[0;32m    878\u001b[0m \u001b[39mexcept\u001b[39;00m ComplexWarning \u001b[39mas\u001b[39;00m complex_warning:\n\u001b[0;32m    879\u001b[0m     \u001b[39mraise\u001b[39;00m \u001b[39mValueError\u001b[39;00m(\n\u001b[0;32m    880\u001b[0m         \u001b[39m\"\u001b[39m\u001b[39mComplex data not supported\u001b[39m\u001b[39m\\n\u001b[39;00m\u001b[39m{}\u001b[39;00m\u001b[39m\\n\u001b[39;00m\u001b[39m\"\u001b[39m\u001b[39m.\u001b[39mformat(array)\n\u001b[0;32m    881\u001b[0m     ) \u001b[39mfrom\u001b[39;00m \u001b[39mcomplex_warning\u001b[39;00m\n",
      "File \u001b[1;32mc:\\code\\bim-to-graph\\lib\\site-packages\\sklearn\\utils\\_array_api.py:185\u001b[0m, in \u001b[0;36m_asarray_with_order\u001b[1;34m(array, dtype, order, copy, xp)\u001b[0m\n\u001b[0;32m    182\u001b[0m     xp, _ \u001b[39m=\u001b[39m get_namespace(array)\n\u001b[0;32m    183\u001b[0m \u001b[39mif\u001b[39;00m xp\u001b[39m.\u001b[39m\u001b[39m__name__\u001b[39m \u001b[39min\u001b[39;00m {\u001b[39m\"\u001b[39m\u001b[39mnumpy\u001b[39m\u001b[39m\"\u001b[39m, \u001b[39m\"\u001b[39m\u001b[39mnumpy.array_api\u001b[39m\u001b[39m\"\u001b[39m}:\n\u001b[0;32m    184\u001b[0m     \u001b[39m# Use NumPy API to support order\u001b[39;00m\n\u001b[1;32m--> 185\u001b[0m     array \u001b[39m=\u001b[39m numpy\u001b[39m.\u001b[39;49masarray(array, order\u001b[39m=\u001b[39;49morder, dtype\u001b[39m=\u001b[39;49mdtype)\n\u001b[0;32m    186\u001b[0m     \u001b[39mreturn\u001b[39;00m xp\u001b[39m.\u001b[39masarray(array, copy\u001b[39m=\u001b[39mcopy)\n\u001b[0;32m    187\u001b[0m \u001b[39melse\u001b[39;00m:\n",
      "\u001b[1;31mValueError\u001b[0m: could not convert string to float: '668d7962-cfa1-4235-858f-19c94db6be83-001b4bcd'"
     ]
    }
   ],
   "source": [
    "from sklearn.preprocessing import StandardScaler\n",
    "sc = StandardScaler()\n",
    "x_train = sc.fit_transform(x_train)\n",
    "x_test = sc.transform(x_test)"
   ]
  },
  {
   "cell_type": "markdown",
   "metadata": {
    "id": "_n5GXzB1aBue"
   },
   "source": [
    "Trainig the SVM Model on the training set\n"
   ]
  },
  {
   "cell_type": "code",
   "execution_count": null,
   "metadata": {
    "colab": {
     "base_uri": "https://localhost:8080/"
    },
    "executionInfo": {
     "elapsed": 8138,
     "status": "ok",
     "timestamp": 1673181828030,
     "user": {
      "displayName": "עוז קלו",
      "userId": "08013084705537700164"
     },
     "user_tz": -120
    },
    "id": "PGreiQTZaGhe",
    "outputId": "7a556a8a-568c-477b-e555-a67ddce79735"
   },
   "outputs": [],
   "source": [
    "from sklearn.svm import SVC\n",
    "classifier = SVC(kernel='linear', random_state=1)\n",
    "classifier.fit(x_train, y_train)\n",
    "y_pred = classifier.predict(x_test)\n"
   ]
  },
  {
   "cell_type": "markdown",
   "metadata": {
    "id": "ClRdKvEoaMcA"
   },
   "source": [
    "Confusion Matrix\n"
   ]
  },
  {
   "cell_type": "code",
   "execution_count": null,
   "metadata": {},
   "outputs": [
    {
     "name": "stdout",
     "output_type": "stream",
     "text": [
      "accuracy is: 0.7319148936170212\n"
     ]
    },
    {
     "data": {
      "text/plain": [
       "[Text(0, 0.5, 'Doors'),\n",
       " Text(0, 1.5, 'Floors'),\n",
       " Text(0, 2.5, 'Furniture'),\n",
       " Text(0, 3.5, 'Walls'),\n",
       " Text(0, 4.5, 'Windows')]"
      ]
     },
     "execution_count": 153,
     "metadata": {},
     "output_type": "execute_result"
    },
    {
     "data": {
      "image/png": "[encoded data removed]",
      "text/plain": [
       "<Figure size 640x480 with 2 Axes>"
      ]
     },
     "metadata": {},
     "output_type": "display_data"
    }
   ],
   "source": [
    "from sklearn.metrics import confusion_matrix, accuracy_score\n",
    "import seaborn as sns\n",
    "import matplotlib.pyplot as plt\n",
    "\n",
    "\n",
    "print('accuracy is:', accuracy_score(y_test, y_pred))\n",
    "cm = confusion_matrix(y_test, y_pred)\n",
    "ax = plt.subplot()\n",
    "# annot=True to annotate cells, ftm='g' to disable scientific notation\n",
    "sns.heatmap(cm, annot=True, fmt='g', ax=ax)\n",
    "\n",
    "# labels, title and ticks\n",
    "ax.set_xlabel('Predicted labels')\n",
    "ax.set_ylabel('True labels')\n",
    "ax.set_title('Confusion Matrix')\n",
    "text_labels = le.inverse_transform([i for i in range(num_of_categories)])\n",
    "ax.xaxis.set_ticklabels(text_labels)\n",
    "ax.yaxis.set_ticklabels(text_labels)\n"
   ]
  }
 ],
 "metadata": {
  "colab": {
   "authorship_tag": "ABX9TyO5l6QzAMYL192m3nH76nKp",
   "mount_file_id": "1cuN3yx0mevRSoULV6bY6fAg9TUerpv73",
   "provenance": []
  },
  "kernelspec": {
   "display_name": "bim-to-graph",
   "language": "python",
   "name": "python3"
  },
  "language_info": {
   "codemirror_mode": {
    "name": "ipython",
    "version": 3
   },
   "file_extension": ".py",
   "mimetype": "text/x-python",
   "name": "python",
   "nbconvert_exporter": "python",
   "pygments_lexer": "ipython3",
   "version": "3.10.5"
  },
  "vscode": {
   "interpreter": {
    "hash": "1f905ce73aa7f232abb8e709c5acec73018ec67506f65f9085927be76a3065e4"
   }
  }
 },
 "nbformat": 4,
 "nbformat_minor": 1
}

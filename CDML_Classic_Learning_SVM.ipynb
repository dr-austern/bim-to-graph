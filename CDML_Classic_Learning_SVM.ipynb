{
 "cells": [
  {
   "cell_type": "markdown",
   "metadata": {
    "id": "tEq2zCO0-o9y"
   },
   "source": [
    "\n",
    "\n",
    "> Import Libraries\n",
    "\n",
    "\n"
   ]
  },
  {
   "cell_type": "code",
   "execution_count": 94,
   "metadata": {
    "executionInfo": {
     "elapsed": 276,
     "status": "ok",
     "timestamp": 1673181682686,
     "user": {
      "displayName": "עוז קלו",
      "userId": "08013084705537700164"
     },
     "user_tz": -120
    },
    "id": "z2COgSdq-oNF"
   },
   "outputs": [],
   "source": [
    "import numpy as np\n",
    "import matplotlib.pyplot as plt\n",
    "import pandas as pd\n",
    "import sklearn"
   ]
  },
  {
   "cell_type": "markdown",
   "metadata": {
    "id": "fxW8qH_oPBbo"
   },
   "source": [
    "Import Data and Shuffle"
   ]
  },
  {
   "cell_type": "code",
   "execution_count": 95,
   "metadata": {
    "colab": {
     "base_uri": "https://localhost:8080/",
     "height": 582
    },
    "executionInfo": {
     "elapsed": 268,
     "status": "ok",
     "timestamp": 1673181683970,
     "user": {
      "displayName": "עוז קלו",
      "userId": "08013084705537700164"
     },
     "user_tz": -120
    },
    "id": "SboSlvNGDmBR",
    "outputId": "905b301e-19b3-432a-9000-0bac5f54d5f8"
   },
   "outputs": [
    {
     "data": {
      "text/html": [
       "<div>\n",
       "<style scoped>\n",
       "    .dataframe tbody tr th:only-of-type {\n",
       "        vertical-align: middle;\n",
       "    }\n",
       "\n",
       "    .dataframe tbody tr th {\n",
       "        vertical-align: top;\n",
       "    }\n",
       "\n",
       "    .dataframe thead th {\n",
       "        text-align: right;\n",
       "    }\n",
       "</style>\n",
       "<table border=\"1\" class=\"dataframe\">\n",
       "  <thead>\n",
       "    <tr style=\"text-align: right;\">\n",
       "      <th></th>\n",
       "      <th>unique_ids</th>\n",
       "      <th>ids</th>\n",
       "      <th>category_names</th>\n",
       "      <th>family_names</th>\n",
       "      <th>type_names</th>\n",
       "      <th>host_ids</th>\n",
       "      <th>BB_X_dims</th>\n",
       "      <th>BB_Y_dims</th>\n",
       "      <th>BB_Z_dims</th>\n",
       "      <th>BB_volumes</th>\n",
       "      <th>BB_centers</th>\n",
       "      <th>BB_plane_Zs</th>\n",
       "      <th>solid_volumes</th>\n",
       "      <th>room_names</th>\n",
       "    </tr>\n",
       "  </thead>\n",
       "  <tbody>\n",
       "    <tr>\n",
       "      <th>11243</th>\n",
       "      <td>a7c2457b-3698-4dff-be39-81c827f8c61d-0107fc2b</td>\n",
       "      <td>17300523</td>\n",
       "      <td>Windows</td>\n",
       "      <td>Tovna_Mamad_Zinor8_Ext</td>\n",
       "      <td>4\"_ext</td>\n",
       "      <td>029e37ad-f8e6-4b45-896c-2b124ca96b9c-00f76b02</td>\n",
       "      <td>28.000000</td>\n",
       "      <td>28.0</td>\n",
       "      <td>60.0</td>\n",
       "      <td>4.704000e+04</td>\n",
       "      <td>{1103.871886, 387.680582, 2235.08}</td>\n",
       "      <td>{-1,0,0}</td>\n",
       "      <td>4.882238e+03</td>\n",
       "      <td>-</td>\n",
       "    </tr>\n",
       "    <tr>\n",
       "      <th>12785</th>\n",
       "      <td>1b40cfa4-9899-4551-89ea-c097e4cebf2a-000cb631</td>\n",
       "      <td>833073</td>\n",
       "      <td>Walls</td>\n",
       "      <td>Basic Wall</td>\n",
       "      <td>BO-INT Con20</td>\n",
       "      <td>-</td>\n",
       "      <td>433.000537</td>\n",
       "      <td>305.0</td>\n",
       "      <td>20.0</td>\n",
       "      <td>2.640000e+06</td>\n",
       "      <td>{2862.295626, 727.801546, 1757.62}</td>\n",
       "      <td>{1,0,0}</td>\n",
       "      <td>2.640000e+06</td>\n",
       "      <td>-</td>\n",
       "    </tr>\n",
       "    <tr>\n",
       "      <th>6522</th>\n",
       "      <td>61b99107-d6ba-4674-bfd9-4d439ae816c6-00654611</td>\n",
       "      <td>6637073</td>\n",
       "      <td>Walls</td>\n",
       "      <td>Basic Wall</td>\n",
       "      <td>בטון (22) בטון 20 + טיח פנימי 2</td>\n",
       "      <td>-</td>\n",
       "      <td>125.000000</td>\n",
       "      <td>337.0</td>\n",
       "      <td>22.0</td>\n",
       "      <td>9.267500e+05</td>\n",
       "      <td>{-3769.33624, -338.515918, 2901.5}</td>\n",
       "      <td>{-1,0,0}</td>\n",
       "      <td>8.105714e+05</td>\n",
       "      <td>-</td>\n",
       "    </tr>\n",
       "    <tr>\n",
       "      <th>14510</th>\n",
       "      <td>eed76d83-0682-4bb6-9827-66c4bde8a388-00113389</td>\n",
       "      <td>1127305</td>\n",
       "      <td>Walls</td>\n",
       "      <td>Basic Wall</td>\n",
       "      <td>BO-INT Bl15</td>\n",
       "      <td>-</td>\n",
       "      <td>89.999782</td>\n",
       "      <td>305.0</td>\n",
       "      <td>15.0</td>\n",
       "      <td>4.117490e+05</td>\n",
       "      <td>{4452.774706, 2332.692578, 1097.62}</td>\n",
       "      <td>{0,1,0}</td>\n",
       "      <td>4.117490e+05</td>\n",
       "      <td>-</td>\n",
       "    </tr>\n",
       "    <tr>\n",
       "      <th>12355</th>\n",
       "      <td>6de6eb6a-bcbf-4e08-a866-d954b83f7159-000ac90d</td>\n",
       "      <td>706829</td>\n",
       "      <td>Walls</td>\n",
       "      <td>Basic Wall</td>\n",
       "      <td>BO-INT Con20</td>\n",
       "      <td>-</td>\n",
       "      <td>140.000000</td>\n",
       "      <td>300.0</td>\n",
       "      <td>20.0</td>\n",
       "      <td>8.400000e+05</td>\n",
       "      <td>{5172.774597, 2165.301264, 130.12}</td>\n",
       "      <td>{-1,0,0}</td>\n",
       "      <td>8.400000e+05</td>\n",
       "      <td>-</td>\n",
       "    </tr>\n",
       "  </tbody>\n",
       "</table>\n",
       "</div>"
      ],
      "text/plain": [
       "                                          unique_ids       ids category_names  \\\n",
       "11243  a7c2457b-3698-4dff-be39-81c827f8c61d-0107fc2b  17300523        Windows   \n",
       "12785  1b40cfa4-9899-4551-89ea-c097e4cebf2a-000cb631    833073          Walls   \n",
       "6522   61b99107-d6ba-4674-bfd9-4d439ae816c6-00654611   6637073          Walls   \n",
       "14510  eed76d83-0682-4bb6-9827-66c4bde8a388-00113389   1127305          Walls   \n",
       "12355  6de6eb6a-bcbf-4e08-a866-d954b83f7159-000ac90d    706829          Walls   \n",
       "\n",
       "                 family_names                       type_names  \\\n",
       "11243  Tovna_Mamad_Zinor8_Ext                           4\"_ext   \n",
       "12785              Basic Wall                     BO-INT Con20   \n",
       "6522               Basic Wall  בטון (22) בטון 20 + טיח פנימי 2   \n",
       "14510              Basic Wall                      BO-INT Bl15   \n",
       "12355              Basic Wall                     BO-INT Con20   \n",
       "\n",
       "                                            host_ids   BB_X_dims  BB_Y_dims  \\\n",
       "11243  029e37ad-f8e6-4b45-896c-2b124ca96b9c-00f76b02   28.000000       28.0   \n",
       "12785                                              -  433.000537      305.0   \n",
       "6522                                               -  125.000000      337.0   \n",
       "14510                                              -   89.999782      305.0   \n",
       "12355                                              -  140.000000      300.0   \n",
       "\n",
       "       BB_Z_dims    BB_volumes                           BB_centers  \\\n",
       "11243       60.0  4.704000e+04   {1103.871886, 387.680582, 2235.08}   \n",
       "12785       20.0  2.640000e+06   {2862.295626, 727.801546, 1757.62}   \n",
       "6522        22.0  9.267500e+05   {-3769.33624, -338.515918, 2901.5}   \n",
       "14510       15.0  4.117490e+05  {4452.774706, 2332.692578, 1097.62}   \n",
       "12355       20.0  8.400000e+05   {5172.774597, 2165.301264, 130.12}   \n",
       "\n",
       "      BB_plane_Zs  solid_volumes room_names  \n",
       "11243    {-1,0,0}   4.882238e+03          -  \n",
       "12785     {1,0,0}   2.640000e+06          -  \n",
       "6522     {-1,0,0}   8.105714e+05          -  \n",
       "14510     {0,1,0}   4.117490e+05          -  \n",
       "12355    {-1,0,0}   8.400000e+05          -  "
      ]
     },
     "execution_count": 95,
     "metadata": {},
     "output_type": "execute_result"
    }
   ],
   "source": [
    "data_set_merge=pd.read_csv(\"dataset-02-clean.csv\")\n",
    "ds =data_set_merge.sample(frac=1)\n",
    "ds.head()"
   ]
  },
  {
   "cell_type": "markdown",
   "metadata": {
    "id": "aM_xoQ7x_tIp"
   },
   "source": [
    "Organize Dataset by Name\n"
   ]
  },
  {
   "cell_type": "code",
   "execution_count": 96,
   "metadata": {
    "colab": {
     "base_uri": "https://localhost:8080/"
    },
    "executionInfo": {
     "elapsed": 248,
     "status": "ok",
     "timestamp": 1673181762598,
     "user": {
      "displayName": "עוז קלו",
      "userId": "08013084705537700164"
     },
     "user_tz": -120
    },
    "id": "U7HNvVcnMdbq",
    "outputId": "3ea53fab-7f19-49c9-b6e7-ec69e0bd662c"
   },
   "outputs": [
    {
     "name": "stdout",
     "output_type": "stream",
     "text": [
      "[[2.80000000e+01 2.80000000e+01 6.00000000e+01 4.70400000e+04\n",
      "  4.88223759e+03]\n",
      " [4.33000537e+02 3.05000000e+02 2.00000000e+01 2.64000000e+06\n",
      "  2.64000000e+06]\n",
      " [1.25000000e+02 3.37000000e+02 2.20000000e+01 9.26750000e+05\n",
      "  8.10571377e+05]\n",
      " ...\n",
      " [2.17289880e+02 2.89500000e+02 1.00000000e+01 6.29054203e+05\n",
      "  4.61054203e+05]\n",
      " [1.80000000e+01 1.80000000e+01 5.50000000e+01 1.78200000e+04\n",
      "  2.64530007e+03]\n",
      " [4.50000000e+01 3.30500000e+02 1.00000000e+01 1.48725000e+05\n",
      "  1.48725000e+05]]\n",
      "['Windows' 'Walls' 'Walls' ... 'Walls' 'Windows' 'Walls']\n"
     ]
    }
   ],
   "source": [
    "dataset = ds[[\"category_names\", \"BB_X_dims\", \"BB_Y_dims\",\n",
    "              \"BB_Z_dims\", \"BB_volumes\", \"solid_volumes\"]]\n",
    "X = dataset.iloc[:, 1:].values\n",
    "Y = dataset.iloc[:, 0].values\n",
    "print(X)\n",
    "print(Y)\n"
   ]
  },
  {
   "cell_type": "markdown",
   "metadata": {
    "id": "TP8lSx0hWMl_"
   },
   "source": [
    "Encoing the Independent Var"
   ]
  },
  {
   "cell_type": "code",
   "execution_count": 97,
   "metadata": {
    "executionInfo": {
     "elapsed": 252,
     "status": "ok",
     "timestamp": 1673181709900,
     "user": {
      "displayName": "עוז קלו",
      "userId": "08013084705537700164"
     },
     "user_tz": -120
    },
    "id": "ZaoBUHCSWPOg"
   },
   "outputs": [],
   "source": [
    "# from sklearn.compose import ColumnTransformer\n",
    "# from sklearn.preprocessing import OneHotEncoder\n",
    "# ct = ColumnTransformer(transformers=[('encoder', OneHotEncoder(), [0])], remainder='passthrough')\n",
    "# X = np.array(ct.fit_transform(X))"
   ]
  },
  {
   "cell_type": "markdown",
   "metadata": {
    "id": "TN9PvXbuUjIS"
   },
   "source": [
    "Encoding Dependent Var\n"
   ]
  },
  {
   "cell_type": "code",
   "execution_count": 98,
   "metadata": {
    "executionInfo": {
     "elapsed": 256,
     "status": "ok",
     "timestamp": 1673181765900,
     "user": {
      "displayName": "עוז קלו",
      "userId": "08013084705537700164"
     },
     "user_tz": -120
    },
    "id": "v1ThU-5qUlsM"
   },
   "outputs": [],
   "source": [
    "from sklearn.preprocessing import LabelEncoder\n",
    "le = LabelEncoder()\n",
    "Y = le.fit_transform(Y)"
   ]
  },
  {
   "cell_type": "markdown",
   "metadata": {
    "id": "minQwl0UKTiY"
   },
   "source": [
    "Splitting Dataset into training set and test set\n"
   ]
  },
  {
   "cell_type": "code",
   "execution_count": 99,
   "metadata": {
    "executionInfo": {
     "elapsed": 234,
     "status": "ok",
     "timestamp": 1673181767292,
     "user": {
      "displayName": "עוז קלו",
      "userId": "08013084705537700164"
     },
     "user_tz": -120
    },
    "id": "SaA-bRyxOSKB"
   },
   "outputs": [],
   "source": [
    "from sklearn.model_selection import train_test_split\n",
    "x_train, x_test, y_train, y_test = train_test_split(X, Y, test_size = 0.2, random_state = 0)"
   ]
  },
  {
   "cell_type": "code",
   "execution_count": 100,
   "metadata": {
    "colab": {
     "base_uri": "https://localhost:8080/"
    },
    "executionInfo": {
     "elapsed": 271,
     "status": "ok",
     "timestamp": 1673181770524,
     "user": {
      "displayName": "עוז קלו",
      "userId": "08013084705537700164"
     },
     "user_tz": -120
    },
    "id": "DZXwL9uUU6nO",
    "outputId": "8aaf5136-5e19-4b65-f013-b18d9fa1bab5"
   },
   "outputs": [
    {
     "name": "stdout",
     "output_type": "stream",
     "text": [
      "[3.3226719e+02 3.4750000e+02 2.5000000e+01 2.8900000e+06 2.2600000e+06]\n"
     ]
    }
   ],
   "source": [
    "print(x_train[0])"
   ]
  },
  {
   "cell_type": "code",
   "execution_count": 101,
   "metadata": {
    "colab": {
     "base_uri": "https://localhost:8080/"
    },
    "executionInfo": {
     "elapsed": 249,
     "status": "ok",
     "timestamp": 1673181772748,
     "user": {
      "displayName": "עוז קלו",
      "userId": "08013084705537700164"
     },
     "user_tz": -120
    },
    "id": "7VssLFH3U6hj",
    "outputId": "157c8472-21fd-4ef6-8ef6-265c1f7f1431"
   },
   "outputs": [
    {
     "name": "stdout",
     "output_type": "stream",
     "text": [
      "[8.00000000e+01 4.30000000e+01 1.27459332e+02 4.38460104e+05\n",
      " 1.74457674e+04]\n"
     ]
    }
   ],
   "source": [
    "print(x_test[0])"
   ]
  },
  {
   "cell_type": "code",
   "execution_count": 102,
   "metadata": {
    "colab": {
     "base_uri": "https://localhost:8080/"
    },
    "executionInfo": {
     "elapsed": 239,
     "status": "ok",
     "timestamp": 1673181774639,
     "user": {
      "displayName": "עוז קלו",
      "userId": "08013084705537700164"
     },
     "user_tz": -120
    },
    "id": "iFTXHnErU6bs",
    "outputId": "008015cb-f69b-4173-b475-09f744c356fa"
   },
   "outputs": [
    {
     "name": "stdout",
     "output_type": "stream",
     "text": [
      "[4 4 4 ... 4 3 4]\n"
     ]
    }
   ],
   "source": [
    "print(y_train)"
   ]
  },
  {
   "cell_type": "code",
   "execution_count": 103,
   "metadata": {
    "colab": {
     "base_uri": "https://localhost:8080/"
    },
    "executionInfo": {
     "elapsed": 249,
     "status": "ok",
     "timestamp": 1673181776918,
     "user": {
      "displayName": "עוז קלו",
      "userId": "08013084705537700164"
     },
     "user_tz": -120
    },
    "id": "VxcDL272U6TL",
    "outputId": "a3923d98-843b-4745-e22e-5e6166adf8d1"
   },
   "outputs": [
    {
     "name": "stdout",
     "output_type": "stream",
     "text": [
      "[3 1 4 ... 4 2 4]\n"
     ]
    }
   ],
   "source": [
    "print(y_test)\n"
   ]
  },
  {
   "cell_type": "markdown",
   "metadata": {
    "id": "vlgvF0UoUS_B"
   },
   "source": [
    "Feature Scalling\n"
   ]
  },
  {
   "cell_type": "code",
   "execution_count": 104,
   "metadata": {
    "executionInfo": {
     "elapsed": 253,
     "status": "ok",
     "timestamp": 1673181779221,
     "user": {
      "displayName": "עוז קלו",
      "userId": "08013084705537700164"
     },
     "user_tz": -120
    },
    "id": "LP1hRUtGUVJg"
   },
   "outputs": [],
   "source": [
    "from sklearn.preprocessing import StandardScaler\n",
    "sc = StandardScaler()\n",
    "x_train = sc.fit_transform(x_train)\n",
    "x_test = sc.transform(x_test)"
   ]
  },
  {
   "cell_type": "markdown",
   "metadata": {
    "id": "_n5GXzB1aBue"
   },
   "source": [
    "Trainig the SVM Model on the training set\n"
   ]
  },
  {
   "cell_type": "code",
   "execution_count": 124,
   "metadata": {
    "colab": {
     "base_uri": "https://localhost:8080/"
    },
    "executionInfo": {
     "elapsed": 8138,
     "status": "ok",
     "timestamp": 1673181828030,
     "user": {
      "displayName": "עוז קלו",
      "userId": "08013084705537700164"
     },
     "user_tz": -120
    },
    "id": "PGreiQTZaGhe",
    "outputId": "7a556a8a-568c-477b-e555-a67ddce79735"
   },
   "outputs": [],
   "source": [
    "from sklearn.svm import SVC\n",
    "classifier = SVC(kernel='linear', random_state=1)\n",
    "classifier.fit(x_train, y_train)\n",
    "y_pred = classifier.predict(x_test)\n"
   ]
  },
  {
   "cell_type": "markdown",
   "metadata": {
    "id": "ClRdKvEoaMcA"
   },
   "source": [
    "Confusion Matrix\n"
   ]
  },
  {
   "cell_type": "code",
   "execution_count": 128,
   "metadata": {},
   "outputs": [
    {
     "name": "stdout",
     "output_type": "stream",
     "text": [
      "accuracy is: 0.6803191489361702\n"
     ]
    },
    {
     "data": {
      "text/plain": [
       "[Text(0, 0.5, 'Doors'),\n",
       " Text(0, 1.5, 'Floors'),\n",
       " Text(0, 2.5, 'Furniture'),\n",
       " Text(0, 3.5, 'Plumbing Fixtures'),\n",
       " Text(0, 4.5, 'Walls'),\n",
       " Text(0, 5.5, 'Windows')]"
      ]
     },
     "execution_count": 128,
     "metadata": {},
     "output_type": "execute_result"
    },
    {
     "data": {
      "image/png": "[encoded data removed]",
      "text/plain": [
       "<Figure size 640x480 with 2 Axes>"
      ]
     },
     "metadata": {},
     "output_type": "display_data"
    }
   ],
   "source": [
    "from sklearn.metrics import confusion_matrix, accuracy_score\n",
    "import seaborn as sns\n",
    "import matplotlib.pyplot as plt\n",
    "\n",
    "\n",
    "print('accuracy is:', accuracy_score(y_test, y_pred))\n",
    "cm = confusion_matrix(y_test, y_pred)\n",
    "ax = plt.subplot()\n",
    "# annot=True to annotate cells, ftm='g' to disable scientific notation\n",
    "sns.heatmap(cm, annot=True, fmt='g', ax=ax)\n",
    "\n",
    "# labels, title and ticks\n",
    "ax.set_xlabel('Predicted labels')\n",
    "ax.set_ylabel('True labels')\n",
    "ax.set_title('Confusion Matrix')\n",
    "text_labels = le.inverse_transform([0, 1, 2, 3, 4, 5])\n",
    "ax.xaxis.set_ticklabels(text_labels)\n",
    "ax.yaxis.set_ticklabels(text_labels)\n"
   ]
  }
 ],
 "metadata": {
  "colab": {
   "authorship_tag": "ABX9TyO5l6QzAMYL192m3nH76nKp",
   "mount_file_id": "1cuN3yx0mevRSoULV6bY6fAg9TUerpv73",
   "provenance": []
  },
  "kernelspec": {
   "display_name": "bim-to-graph",
   "language": "python",
   "name": "python3"
  },
  "language_info": {
   "codemirror_mode": {
    "name": "ipython",
    "version": 3
   },
   "file_extension": ".py",
   "mimetype": "text/x-python",
   "name": "python",
   "nbconvert_exporter": "python",
   "pygments_lexer": "ipython3",
   "version": "3.10.5"
  },
  "vscode": {
   "interpreter": {
    "hash": "1f905ce73aa7f232abb8e709c5acec73018ec67506f65f9085927be76a3065e4"
   }
  }
 },
 "nbformat": 4,
 "nbformat_minor": 1
}
